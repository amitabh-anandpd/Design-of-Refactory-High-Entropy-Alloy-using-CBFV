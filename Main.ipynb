{
  "cells": [
    {
      "cell_type": "code",
      "execution_count": null,
      "metadata": {
        "id": "aMjgJtN-xBxA"
      },
      "outputs": [],
      "source": [
        "import time\n",
        "start_time = time.time()"
      ]
    },
    {
      "cell_type": "markdown",
      "metadata": {
        "id": "kd1NdZfxnXYr"
      },
      "source": [
        "**INSTALLING CBFV**"
      ]
    },
    {
      "cell_type": "code",
      "execution_count": null,
      "metadata": {
        "colab": {
          "base_uri": "https://localhost:8080/"
        },
        "id": "EEPJ_7kbZqXS",
        "outputId": "3a93e81b-bfdc-4865-f0e0-0100bcfd9ef8"
      },
      "outputs": [
        {
          "name": "stdout",
          "output_type": "stream",
          "text": [
            "Collecting CBFV\n",
            "  Downloading CBFV-1.1.0-py3-none-any.whl.metadata (3.3 kB)\n",
            "Requirement already satisfied: numpy in /usr/local/lib/python3.10/dist-packages (from CBFV) (1.25.2)\n",
            "Requirement already satisfied: pandas in /usr/local/lib/python3.10/dist-packages (from CBFV) (2.0.3)\n",
            "Requirement already satisfied: tqdm in /usr/local/lib/python3.10/dist-packages (from CBFV) (4.66.4)\n",
            "Requirement already satisfied: pytest in /usr/local/lib/python3.10/dist-packages (from CBFV) (7.4.4)\n",
            "Requirement already satisfied: python-dateutil>=2.8.2 in /usr/local/lib/python3.10/dist-packages (from pandas->CBFV) (2.8.2)\n",
            "Requirement already satisfied: pytz>=2020.1 in /usr/local/lib/python3.10/dist-packages (from pandas->CBFV) (2024.1)\n",
            "Requirement already satisfied: tzdata>=2022.1 in /usr/local/lib/python3.10/dist-packages (from pandas->CBFV) (2024.1)\n",
            "Requirement already satisfied: iniconfig in /usr/local/lib/python3.10/dist-packages (from pytest->CBFV) (2.0.0)\n",
            "Requirement already satisfied: packaging in /usr/local/lib/python3.10/dist-packages (from pytest->CBFV) (24.1)\n",
            "Requirement already satisfied: pluggy<2.0,>=0.12 in /usr/local/lib/python3.10/dist-packages (from pytest->CBFV) (1.5.0)\n",
            "Requirement already satisfied: exceptiongroup>=1.0.0rc8 in /usr/local/lib/python3.10/dist-packages (from pytest->CBFV) (1.2.2)\n",
            "Requirement already satisfied: tomli>=1.0.0 in /usr/local/lib/python3.10/dist-packages (from pytest->CBFV) (2.0.1)\n",
            "Requirement already satisfied: six>=1.5 in /usr/local/lib/python3.10/dist-packages (from python-dateutil>=2.8.2->pandas->CBFV) (1.16.0)\n",
            "Downloading CBFV-1.1.0-py3-none-any.whl (539 kB)\n",
            "\u001b[2K   \u001b[90m━━━━━━━━━━━━━━━━━━━━━━━━━━━━━━━━━━━━━━━━\u001b[0m \u001b[32m539.2/539.2 kB\u001b[0m \u001b[31m3.6 MB/s\u001b[0m eta \u001b[36m0:00:00\u001b[0m\n",
            "\u001b[?25hInstalling collected packages: CBFV\n",
            "Successfully installed CBFV-1.1.0\n"
          ]
        }
      ],
      "source": [
        "!pip install CBFV"
      ]
    },
    {
      "cell_type": "markdown",
      "metadata": {
        "id": "iB_Yc8WPnn1q"
      },
      "source": [
        "**IMPORTING REQUIRED LIBRARIES**"
      ]
    },
    {
      "cell_type": "code",
      "execution_count": null,
      "metadata": {
        "id": "fR0H3XSMZy4m"
      },
      "outputs": [],
      "source": [
        "import pandas as pd\n",
        "import numpy as np\n",
        "from sklearn.base import BaseEstimator\n",
        "from sklearn.model_selection import train_test_split\n",
        "import matplotlib.pyplot as plt\n",
        "from CBFV import composition\n",
        "from CBFV.composition import generate_features\n",
        "import matplotlib.pyplot as plt\n",
        "from sklearn.metrics import r2_score,mean_squared_error,mean_absolute_error\n",
        "from sklearn.preprocessing import StandardScaler\n",
        "from sklearn.preprocessing import normalize\n",
        "import seaborn as sns\n",
        "from scipy.stats import norm\n",
        "from sklearn.model_selection import cross_val_score"
      ]
    },
    {
      "cell_type": "markdown",
      "metadata": {
        "id": "_yBOTXVzntya"
      },
      "source": [
        "**READING DATA FROM EXCEL**"
      ]
    },
    {
      "cell_type": "code",
      "execution_count": null,
      "metadata": {
        "id": "_W4Dt37HaBnQ"
      },
      "outputs": [],
      "source": [
        "df = pd.read_excel('/content/Data.xlsx')"
      ]
    },
    {
      "cell_type": "markdown",
      "metadata": {
        "id": "fN7Vimt-jg8Z"
      },
      "source": [
        "Dropping the values that don't have Mo."
      ]
    },
    {
      "cell_type": "code",
      "execution_count": null,
      "metadata": {
        "id": "b_vssDCAjgga"
      },
      "outputs": [],
      "source": [
        "for i in range(len(df)):\n",
        "    if 'Mo' not in df['formula'][i]:\n",
        "        df = df.drop(i)"
      ]
    },
    {
      "cell_type": "markdown",
      "metadata": {
        "id": "r11hUvbAohpn"
      },
      "source": [
        "**FEATURISATION**"
      ]
    },
    {
      "cell_type": "code",
      "execution_count": null,
      "metadata": {
        "colab": {
          "base_uri": "https://localhost:8080/"
        },
        "id": "1U7fo7yuyM9f",
        "outputId": "57c07c0f-76a4-4fde-8501-f1a8e406d610"
      },
      "outputs": [
        {
          "name": "stderr",
          "output_type": "stream",
          "text": [
            "Processing Input Data: 100%|██████████| 51/51 [00:00<00:00, 9413.79it/s]\n"
          ]
        },
        {
          "name": "stdout",
          "output_type": "stream",
          "text": [
            "\tFeaturizing Compositions...\n"
          ]
        },
        {
          "name": "stderr",
          "output_type": "stream",
          "text": [
            "Assigning Features...: 100%|██████████| 51/51 [00:00<00:00, 5755.21it/s]"
          ]
        },
        {
          "name": "stdout",
          "output_type": "stream",
          "text": [
            "\tCreating Pandas Objects...\n"
          ]
        },
        {
          "name": "stderr",
          "output_type": "stream",
          "text": [
            "\n"
          ]
        }
      ],
      "source": [
        "from CBFV import composition\n",
        "X, y, formulae, skipped = composition.generate_features(df,\n",
        "                                                        elem_prop='oliynyk',\n",
        "                                                        drop_duplicates=False,\n",
        "                                                        extend_features=True,\n",
        "                                                        sum_feat=True)"
      ]
    },
    {
      "cell_type": "code",
      "execution_count": null,
      "metadata": {
        "colab": {
          "base_uri": "https://localhost:8080/"
        },
        "id": "lqC1LsqNwJgu",
        "outputId": "ab31553e-c461-4b11-c914-c37562164a33"
      },
      "outputs": [
        {
          "data": {
            "text/plain": [
              "0    10.580772\n",
              "1     7.953477\n",
              "2     4.805103\n",
              "3    10.968149\n",
              "4     8.710251\n",
              "Name: target, dtype: float64"
            ]
          },
          "execution_count": 7,
          "metadata": {},
          "output_type": "execute_result"
        }
      ],
      "source": [
        "y.head()"
      ]
    },
    {
      "cell_type": "code",
      "execution_count": null,
      "metadata": {
        "id": "UNAAe7rYwL2W"
      },
      "outputs": [],
      "source": [
        "ya = X.loc[:, 'Temperature']"
      ]
    },
    {
      "cell_type": "code",
      "execution_count": null,
      "metadata": {
        "colab": {
          "base_uri": "https://localhost:8080/"
        },
        "id": "WeQu0ucjwSjG",
        "outputId": "98e06299-34ff-4eda-9817-2d31215387e0"
      },
      "outputs": [
        {
          "data": {
            "text/plain": [
              "0    2010.525852\n",
              "1    2037.488875\n",
              "2    2049.113503\n",
              "3    2085.299870\n",
              "4    2096.932923\n",
              "Name: Temperature, dtype: float64"
            ]
          },
          "execution_count": 9,
          "metadata": {},
          "output_type": "execute_result"
        }
      ],
      "source": [
        "ya.head()"
      ]
    },
    {
      "cell_type": "code",
      "execution_count": null,
      "metadata": {
        "id": "cwxe32gCnjFQ"
      },
      "outputs": [],
      "source": [
        "!mv f3_revised.csv /usr/local/lib/python3.10/dist-packages/CBFV/element_properties/"
      ]
    },
    {
      "cell_type": "code",
      "execution_count": null,
      "metadata": {
        "colab": {
          "base_uri": "https://localhost:8080/"
        },
        "id": "RSnfgLmVnoLI",
        "outputId": "a07a035a-d7f1-4e41-9912-29a80275bb9f"
      },
      "outputs": [
        {
          "name": "stderr",
          "output_type": "stream",
          "text": [
            "Processing Input Data: 100%|██████████| 51/51 [00:00<00:00, 12077.09it/s]\n"
          ]
        },
        {
          "name": "stdout",
          "output_type": "stream",
          "text": [
            "\tFeaturizing Compositions...\n"
          ]
        },
        {
          "name": "stderr",
          "output_type": "stream",
          "text": [
            "Assigning Features...: 100%|██████████| 51/51 [00:00<00:00, 7038.35it/s]"
          ]
        },
        {
          "name": "stdout",
          "output_type": "stream",
          "text": [
            "\tCreating Pandas Objects...\n"
          ]
        },
        {
          "name": "stderr",
          "output_type": "stream",
          "text": [
            "\n"
          ]
        }
      ],
      "source": [
        "X1, y1, formulae, skipped = composition.generate_features(df,elem_prop='f3_revised',drop_duplicates=False,extend_features=True)"
      ]
    },
    {
      "cell_type": "code",
      "execution_count": null,
      "metadata": {
        "colab": {
          "base_uri": "https://localhost:8080/"
        },
        "id": "E5F0KmzXv__g",
        "outputId": "967e7546-6e1e-4c63-ec58-b693f89b51dd"
      },
      "outputs": [
        {
          "data": {
            "text/plain": [
              "0    10.580772\n",
              "1     7.953477\n",
              "2     4.805103\n",
              "3    10.968149\n",
              "4     8.710251\n",
              "Name: target, dtype: float64"
            ]
          },
          "execution_count": 12,
          "metadata": {},
          "output_type": "execute_result"
        }
      ],
      "source": [
        "y1.head()"
      ]
    },
    {
      "cell_type": "code",
      "execution_count": null,
      "metadata": {
        "id": "X6dK2hHPwaPx"
      },
      "outputs": [],
      "source": [
        "y1a = X1.loc[:, 'Temperature']"
      ]
    },
    {
      "cell_type": "code",
      "execution_count": null,
      "metadata": {
        "colab": {
          "base_uri": "https://localhost:8080/"
        },
        "id": "Ob0h0N7dwgxy",
        "outputId": "494dcade-ab00-4982-be2d-5e4f0ca6cb19"
      },
      "outputs": [
        {
          "data": {
            "text/plain": [
              "0    2010.525852\n",
              "1    2037.488875\n",
              "2    2049.113503\n",
              "3    2085.299870\n",
              "4    2096.932923\n",
              "Name: Temperature, dtype: float64"
            ]
          },
          "execution_count": 14,
          "metadata": {},
          "output_type": "execute_result"
        }
      ],
      "source": [
        "y1a.head()"
      ]
    },
    {
      "cell_type": "code",
      "execution_count": null,
      "metadata": {
        "id": "koP7O-HXwyij"
      },
      "outputs": [],
      "source": [
        "X.drop(columns=['Temperature'],inplace=True)"
      ]
    },
    {
      "cell_type": "code",
      "source": [
        "X"
      ],
      "metadata": {
        "id": "ethRxVwz2goH"
      },
      "execution_count": null,
      "outputs": []
    },
    {
      "cell_type": "code",
      "execution_count": null,
      "metadata": {
        "id": "JYBPWPPbw8B0"
      },
      "outputs": [],
      "source": [
        "X1.drop(columns=['Temperature'],inplace=True)"
      ]
    },
    {
      "cell_type": "code",
      "execution_count": null,
      "metadata": {
        "colab": {
          "base_uri": "https://localhost:8080/",
          "height": 255
        },
        "id": "Q9Pw5aQSauva",
        "outputId": "43011a3e-cf87-42f9-ea1b-b0d7e8119eab"
      },
      "outputs": [
        {
          "data": {
            "application/vnd.google.colaboratory.intrinsic+json": {
              "type": "dataframe",
              "variable_name": "X"
            },
            "text/html": [
              "\n",
              "  <div id=\"df-3a5e6333-6ec2-4794-801e-b616f05030f0\" class=\"colab-df-container\">\n",
              "    <div>\n",
              "<style scoped>\n",
              "    .dataframe tbody tr th:only-of-type {\n",
              "        vertical-align: middle;\n",
              "    }\n",
              "\n",
              "    .dataframe tbody tr th {\n",
              "        vertical-align: top;\n",
              "    }\n",
              "\n",
              "    .dataframe thead th {\n",
              "        text-align: right;\n",
              "    }\n",
              "</style>\n",
              "<table border=\"1\" class=\"dataframe\">\n",
              "  <thead>\n",
              "    <tr style=\"text-align: right;\">\n",
              "      <th></th>\n",
              "      <th>sum_Atomic_Number</th>\n",
              "      <th>sum_Atomic_Weight</th>\n",
              "      <th>sum_Period</th>\n",
              "      <th>sum_group</th>\n",
              "      <th>sum_families</th>\n",
              "      <th>sum_Metal</th>\n",
              "      <th>sum_Nonmetal</th>\n",
              "      <th>sum_Metalliod</th>\n",
              "      <th>sum_Mendeleev_Number</th>\n",
              "      <th>sum_l_quantum_number</th>\n",
              "      <th>...</th>\n",
              "      <th>mode_polarizability(A^3)</th>\n",
              "      <th>mode_Melting_point_(K)</th>\n",
              "      <th>mode_Boiling_Point_(K)</th>\n",
              "      <th>mode_Density_(g/mL)</th>\n",
              "      <th>mode_specific_heat_(J/g_K)_</th>\n",
              "      <th>mode_heat_of_fusion_(kJ/mol)_</th>\n",
              "      <th>mode_heat_of_vaporization_(kJ/mol)_</th>\n",
              "      <th>mode_thermal_conductivity_(W/(m_K))_</th>\n",
              "      <th>mode_heat_atomization(kJ/mol)</th>\n",
              "      <th>mode_Cohesive_energy</th>\n",
              "    </tr>\n",
              "  </thead>\n",
              "  <tbody>\n",
              "    <tr>\n",
              "      <th>0</th>\n",
              "      <td>50.25</td>\n",
              "      <td>118.439095</td>\n",
              "      <td>5.25</td>\n",
              "      <td>6.25</td>\n",
              "      <td>4.0</td>\n",
              "      <td>1.0</td>\n",
              "      <td>0.0</td>\n",
              "      <td>0.0</td>\n",
              "      <td>51.00</td>\n",
              "      <td>2.0</td>\n",
              "      <td>...</td>\n",
              "      <td>9.6</td>\n",
              "      <td>2583.15</td>\n",
              "      <td>4173.15</td>\n",
              "      <td>8.57</td>\n",
              "      <td>0.13</td>\n",
              "      <td>24.00</td>\n",
              "      <td>595.0</td>\n",
              "      <td>53.7</td>\n",
              "      <td>643.0</td>\n",
              "      <td>6.74</td>\n",
              "    </tr>\n",
              "    <tr>\n",
              "      <th>1</th>\n",
              "      <td>57.50</td>\n",
              "      <td>138.385845</td>\n",
              "      <td>5.50</td>\n",
              "      <td>5.50</td>\n",
              "      <td>4.0</td>\n",
              "      <td>1.0</td>\n",
              "      <td>0.0</td>\n",
              "      <td>0.0</td>\n",
              "      <td>49.00</td>\n",
              "      <td>2.0</td>\n",
              "      <td>...</td>\n",
              "      <td>9.7</td>\n",
              "      <td>2500.15</td>\n",
              "      <td>4873.15</td>\n",
              "      <td>8.57</td>\n",
              "      <td>0.13</td>\n",
              "      <td>24.06</td>\n",
              "      <td>575.0</td>\n",
              "      <td>23.0</td>\n",
              "      <td>619.0</td>\n",
              "      <td>6.44</td>\n",
              "    </tr>\n",
              "    <tr>\n",
              "      <th>2</th>\n",
              "      <td>61.50</td>\n",
              "      <td>149.482356</td>\n",
              "      <td>5.65</td>\n",
              "      <td>4.70</td>\n",
              "      <td>4.0</td>\n",
              "      <td>1.0</td>\n",
              "      <td>0.0</td>\n",
              "      <td>0.0</td>\n",
              "      <td>46.75</td>\n",
              "      <td>2.0</td>\n",
              "      <td>...</td>\n",
              "      <td>16.2</td>\n",
              "      <td>2500.15</td>\n",
              "      <td>4873.15</td>\n",
              "      <td>13.30</td>\n",
              "      <td>0.14</td>\n",
              "      <td>24.06</td>\n",
              "      <td>575.0</td>\n",
              "      <td>23.0</td>\n",
              "      <td>619.0</td>\n",
              "      <td>6.44</td>\n",
              "    </tr>\n",
              "    <tr>\n",
              "      <th>3</th>\n",
              "      <td>50.50</td>\n",
              "      <td>119.030845</td>\n",
              "      <td>5.25</td>\n",
              "      <td>6.50</td>\n",
              "      <td>4.0</td>\n",
              "      <td>1.0</td>\n",
              "      <td>0.0</td>\n",
              "      <td>0.0</td>\n",
              "      <td>51.75</td>\n",
              "      <td>2.0</td>\n",
              "      <td>...</td>\n",
              "      <td>9.6</td>\n",
              "      <td>2583.15</td>\n",
              "      <td>4173.15</td>\n",
              "      <td>8.57</td>\n",
              "      <td>0.13</td>\n",
              "      <td>24.00</td>\n",
              "      <td>595.0</td>\n",
              "      <td>47.9</td>\n",
              "      <td>643.0</td>\n",
              "      <td>6.74</td>\n",
              "    </tr>\n",
              "    <tr>\n",
              "      <th>4</th>\n",
              "      <td>55.20</td>\n",
              "      <td>131.992676</td>\n",
              "      <td>5.40</td>\n",
              "      <td>6.40</td>\n",
              "      <td>4.0</td>\n",
              "      <td>1.0</td>\n",
              "      <td>0.0</td>\n",
              "      <td>0.0</td>\n",
              "      <td>51.60</td>\n",
              "      <td>2.0</td>\n",
              "      <td>...</td>\n",
              "      <td>9.6</td>\n",
              "      <td>2583.15</td>\n",
              "      <td>4173.15</td>\n",
              "      <td>8.57</td>\n",
              "      <td>0.13</td>\n",
              "      <td>24.00</td>\n",
              "      <td>595.0</td>\n",
              "      <td>47.9</td>\n",
              "      <td>643.0</td>\n",
              "      <td>6.74</td>\n",
              "    </tr>\n",
              "  </tbody>\n",
              "</table>\n",
              "<p>5 rows × 308 columns</p>\n",
              "</div>\n",
              "    <div class=\"colab-df-buttons\">\n",
              "\n",
              "  <div class=\"colab-df-container\">\n",
              "    <button class=\"colab-df-convert\" onclick=\"convertToInteractive('df-3a5e6333-6ec2-4794-801e-b616f05030f0')\"\n",
              "            title=\"Convert this dataframe to an interactive table.\"\n",
              "            style=\"display:none;\">\n",
              "\n",
              "  <svg xmlns=\"http://www.w3.org/2000/svg\" height=\"24px\" viewBox=\"0 -960 960 960\">\n",
              "    <path d=\"M120-120v-720h720v720H120Zm60-500h600v-160H180v160Zm220 220h160v-160H400v160Zm0 220h160v-160H400v160ZM180-400h160v-160H180v160Zm440 0h160v-160H620v160ZM180-180h160v-160H180v160Zm440 0h160v-160H620v160Z\"/>\n",
              "  </svg>\n",
              "    </button>\n",
              "\n",
              "  <style>\n",
              "    .colab-df-container {\n",
              "      display:flex;\n",
              "      gap: 12px;\n",
              "    }\n",
              "\n",
              "    .colab-df-convert {\n",
              "      background-color: #E8F0FE;\n",
              "      border: none;\n",
              "      border-radius: 50%;\n",
              "      cursor: pointer;\n",
              "      display: none;\n",
              "      fill: #1967D2;\n",
              "      height: 32px;\n",
              "      padding: 0 0 0 0;\n",
              "      width: 32px;\n",
              "    }\n",
              "\n",
              "    .colab-df-convert:hover {\n",
              "      background-color: #E2EBFA;\n",
              "      box-shadow: 0px 1px 2px rgba(60, 64, 67, 0.3), 0px 1px 3px 1px rgba(60, 64, 67, 0.15);\n",
              "      fill: #174EA6;\n",
              "    }\n",
              "\n",
              "    .colab-df-buttons div {\n",
              "      margin-bottom: 4px;\n",
              "    }\n",
              "\n",
              "    [theme=dark] .colab-df-convert {\n",
              "      background-color: #3B4455;\n",
              "      fill: #D2E3FC;\n",
              "    }\n",
              "\n",
              "    [theme=dark] .colab-df-convert:hover {\n",
              "      background-color: #434B5C;\n",
              "      box-shadow: 0px 1px 3px 1px rgba(0, 0, 0, 0.15);\n",
              "      filter: drop-shadow(0px 1px 2px rgba(0, 0, 0, 0.3));\n",
              "      fill: #FFFFFF;\n",
              "    }\n",
              "  </style>\n",
              "\n",
              "    <script>\n",
              "      const buttonEl =\n",
              "        document.querySelector('#df-3a5e6333-6ec2-4794-801e-b616f05030f0 button.colab-df-convert');\n",
              "      buttonEl.style.display =\n",
              "        google.colab.kernel.accessAllowed ? 'block' : 'none';\n",
              "\n",
              "      async function convertToInteractive(key) {\n",
              "        const element = document.querySelector('#df-3a5e6333-6ec2-4794-801e-b616f05030f0');\n",
              "        const dataTable =\n",
              "          await google.colab.kernel.invokeFunction('convertToInteractive',\n",
              "                                                    [key], {});\n",
              "        if (!dataTable) return;\n",
              "\n",
              "        const docLinkHtml = 'Like what you see? Visit the ' +\n",
              "          '<a target=\"_blank\" href=https://colab.research.google.com/notebooks/data_table.ipynb>data table notebook</a>'\n",
              "          + ' to learn more about interactive tables.';\n",
              "        element.innerHTML = '';\n",
              "        dataTable['output_type'] = 'display_data';\n",
              "        await google.colab.output.renderOutput(dataTable, element);\n",
              "        const docLink = document.createElement('div');\n",
              "        docLink.innerHTML = docLinkHtml;\n",
              "        element.appendChild(docLink);\n",
              "      }\n",
              "    </script>\n",
              "  </div>\n",
              "\n",
              "\n",
              "<div id=\"df-be160965-da8f-45a5-a9c6-3ea297c981af\">\n",
              "  <button class=\"colab-df-quickchart\" onclick=\"quickchart('df-be160965-da8f-45a5-a9c6-3ea297c981af')\"\n",
              "            title=\"Suggest charts\"\n",
              "            style=\"display:none;\">\n",
              "\n",
              "<svg xmlns=\"http://www.w3.org/2000/svg\" height=\"24px\"viewBox=\"0 0 24 24\"\n",
              "     width=\"24px\">\n",
              "    <g>\n",
              "        <path d=\"M19 3H5c-1.1 0-2 .9-2 2v14c0 1.1.9 2 2 2h14c1.1 0 2-.9 2-2V5c0-1.1-.9-2-2-2zM9 17H7v-7h2v7zm4 0h-2V7h2v10zm4 0h-2v-4h2v4z\"/>\n",
              "    </g>\n",
              "</svg>\n",
              "  </button>\n",
              "\n",
              "<style>\n",
              "  .colab-df-quickchart {\n",
              "      --bg-color: #E8F0FE;\n",
              "      --fill-color: #1967D2;\n",
              "      --hover-bg-color: #E2EBFA;\n",
              "      --hover-fill-color: #174EA6;\n",
              "      --disabled-fill-color: #AAA;\n",
              "      --disabled-bg-color: #DDD;\n",
              "  }\n",
              "\n",
              "  [theme=dark] .colab-df-quickchart {\n",
              "      --bg-color: #3B4455;\n",
              "      --fill-color: #D2E3FC;\n",
              "      --hover-bg-color: #434B5C;\n",
              "      --hover-fill-color: #FFFFFF;\n",
              "      --disabled-bg-color: #3B4455;\n",
              "      --disabled-fill-color: #666;\n",
              "  }\n",
              "\n",
              "  .colab-df-quickchart {\n",
              "    background-color: var(--bg-color);\n",
              "    border: none;\n",
              "    border-radius: 50%;\n",
              "    cursor: pointer;\n",
              "    display: none;\n",
              "    fill: var(--fill-color);\n",
              "    height: 32px;\n",
              "    padding: 0;\n",
              "    width: 32px;\n",
              "  }\n",
              "\n",
              "  .colab-df-quickchart:hover {\n",
              "    background-color: var(--hover-bg-color);\n",
              "    box-shadow: 0 1px 2px rgba(60, 64, 67, 0.3), 0 1px 3px 1px rgba(60, 64, 67, 0.15);\n",
              "    fill: var(--button-hover-fill-color);\n",
              "  }\n",
              "\n",
              "  .colab-df-quickchart-complete:disabled,\n",
              "  .colab-df-quickchart-complete:disabled:hover {\n",
              "    background-color: var(--disabled-bg-color);\n",
              "    fill: var(--disabled-fill-color);\n",
              "    box-shadow: none;\n",
              "  }\n",
              "\n",
              "  .colab-df-spinner {\n",
              "    border: 2px solid var(--fill-color);\n",
              "    border-color: transparent;\n",
              "    border-bottom-color: var(--fill-color);\n",
              "    animation:\n",
              "      spin 1s steps(1) infinite;\n",
              "  }\n",
              "\n",
              "  @keyframes spin {\n",
              "    0% {\n",
              "      border-color: transparent;\n",
              "      border-bottom-color: var(--fill-color);\n",
              "      border-left-color: var(--fill-color);\n",
              "    }\n",
              "    20% {\n",
              "      border-color: transparent;\n",
              "      border-left-color: var(--fill-color);\n",
              "      border-top-color: var(--fill-color);\n",
              "    }\n",
              "    30% {\n",
              "      border-color: transparent;\n",
              "      border-left-color: var(--fill-color);\n",
              "      border-top-color: var(--fill-color);\n",
              "      border-right-color: var(--fill-color);\n",
              "    }\n",
              "    40% {\n",
              "      border-color: transparent;\n",
              "      border-right-color: var(--fill-color);\n",
              "      border-top-color: var(--fill-color);\n",
              "    }\n",
              "    60% {\n",
              "      border-color: transparent;\n",
              "      border-right-color: var(--fill-color);\n",
              "    }\n",
              "    80% {\n",
              "      border-color: transparent;\n",
              "      border-right-color: var(--fill-color);\n",
              "      border-bottom-color: var(--fill-color);\n",
              "    }\n",
              "    90% {\n",
              "      border-color: transparent;\n",
              "      border-bottom-color: var(--fill-color);\n",
              "    }\n",
              "  }\n",
              "</style>\n",
              "\n",
              "  <script>\n",
              "    async function quickchart(key) {\n",
              "      const quickchartButtonEl =\n",
              "        document.querySelector('#' + key + ' button');\n",
              "      quickchartButtonEl.disabled = true;  // To prevent multiple clicks.\n",
              "      quickchartButtonEl.classList.add('colab-df-spinner');\n",
              "      try {\n",
              "        const charts = await google.colab.kernel.invokeFunction(\n",
              "            'suggestCharts', [key], {});\n",
              "      } catch (error) {\n",
              "        console.error('Error during call to suggestCharts:', error);\n",
              "      }\n",
              "      quickchartButtonEl.classList.remove('colab-df-spinner');\n",
              "      quickchartButtonEl.classList.add('colab-df-quickchart-complete');\n",
              "    }\n",
              "    (() => {\n",
              "      let quickchartButtonEl =\n",
              "        document.querySelector('#df-be160965-da8f-45a5-a9c6-3ea297c981af button');\n",
              "      quickchartButtonEl.style.display =\n",
              "        google.colab.kernel.accessAllowed ? 'block' : 'none';\n",
              "    })();\n",
              "  </script>\n",
              "</div>\n",
              "\n",
              "    </div>\n",
              "  </div>\n"
            ],
            "text/plain": [
              "   sum_Atomic_Number  sum_Atomic_Weight  sum_Period  sum_group  sum_families  \\\n",
              "0              50.25         118.439095        5.25       6.25           4.0   \n",
              "1              57.50         138.385845        5.50       5.50           4.0   \n",
              "2              61.50         149.482356        5.65       4.70           4.0   \n",
              "3              50.50         119.030845        5.25       6.50           4.0   \n",
              "4              55.20         131.992676        5.40       6.40           4.0   \n",
              "\n",
              "   sum_Metal  sum_Nonmetal  sum_Metalliod  sum_Mendeleev_Number  \\\n",
              "0        1.0           0.0            0.0                 51.00   \n",
              "1        1.0           0.0            0.0                 49.00   \n",
              "2        1.0           0.0            0.0                 46.75   \n",
              "3        1.0           0.0            0.0                 51.75   \n",
              "4        1.0           0.0            0.0                 51.60   \n",
              "\n",
              "   sum_l_quantum_number  ...  mode_polarizability(A^3)  \\\n",
              "0                   2.0  ...                       9.6   \n",
              "1                   2.0  ...                       9.7   \n",
              "2                   2.0  ...                      16.2   \n",
              "3                   2.0  ...                       9.6   \n",
              "4                   2.0  ...                       9.6   \n",
              "\n",
              "   mode_Melting_point_(K)  mode_Boiling_Point_(K)  mode_Density_(g/mL)  \\\n",
              "0                 2583.15                 4173.15                 8.57   \n",
              "1                 2500.15                 4873.15                 8.57   \n",
              "2                 2500.15                 4873.15                13.30   \n",
              "3                 2583.15                 4173.15                 8.57   \n",
              "4                 2583.15                 4173.15                 8.57   \n",
              "\n",
              "   mode_specific_heat_(J/g_K)_  mode_heat_of_fusion_(kJ/mol)_  \\\n",
              "0                         0.13                          24.00   \n",
              "1                         0.13                          24.06   \n",
              "2                         0.14                          24.06   \n",
              "3                         0.13                          24.00   \n",
              "4                         0.13                          24.00   \n",
              "\n",
              "   mode_heat_of_vaporization_(kJ/mol)_  mode_thermal_conductivity_(W/(m_K))_  \\\n",
              "0                                595.0                                  53.7   \n",
              "1                                575.0                                  23.0   \n",
              "2                                575.0                                  23.0   \n",
              "3                                595.0                                  47.9   \n",
              "4                                595.0                                  47.9   \n",
              "\n",
              "   mode_heat_atomization(kJ/mol)  mode_Cohesive_energy  \n",
              "0                          643.0                  6.74  \n",
              "1                          619.0                  6.44  \n",
              "2                          619.0                  6.44  \n",
              "3                          643.0                  6.74  \n",
              "4                          643.0                  6.74  \n",
              "\n",
              "[5 rows x 308 columns]"
            ]
          },
          "execution_count": 17,
          "metadata": {},
          "output_type": "execute_result"
        }
      ],
      "source": [
        "X.head()"
      ]
    },
    {
      "cell_type": "code",
      "execution_count": null,
      "metadata": {
        "colab": {
          "background_save": true,
          "base_uri": "https://localhost:8080/",
          "height": 255
        },
        "id": "iLcHkRxVortf",
        "outputId": "8a74ab15-647b-4aa6-91fb-07e1713e4b31"
      },
      "outputs": [
        {
          "data": {
            "application/vnd.google.colaboratory.intrinsic+json": {
              "type": "dataframe",
              "variable_name": "X1"
            },
            "text/html": [
              "\n",
              "  <div id=\"df-775091d1-3217-43a1-a626-6dbc82aaa12c\" class=\"colab-df-container\">\n",
              "    <div>\n",
              "<style scoped>\n",
              "    .dataframe tbody tr th:only-of-type {\n",
              "        vertical-align: middle;\n",
              "    }\n",
              "\n",
              "    .dataframe tbody tr th {\n",
              "        vertical-align: top;\n",
              "    }\n",
              "\n",
              "    .dataframe thead th {\n",
              "        text-align: right;\n",
              "    }\n",
              "</style>\n",
              "<table border=\"1\" class=\"dataframe\">\n",
              "  <thead>\n",
              "    <tr style=\"text-align: right;\">\n",
              "      <th></th>\n",
              "      <th>avg_Atomic_Radius</th>\n",
              "      <th>avg_Pauling_Electronegativity</th>\n",
              "      <th>avg_number_of_valence_electrons</th>\n",
              "      <th>avg_Cohesive_energy_ev_atom</th>\n",
              "      <th>avg_Bulk_modulus_RT_Gpa</th>\n",
              "      <th>avg_Elastic_modulus_RT_Gpa</th>\n",
              "      <th>avg_Shear_modulus_RT_Gpa</th>\n",
              "      <th>avg_Melting_point_(K)</th>\n",
              "      <th>avg_rate_shear_mod_Mpa_perK</th>\n",
              "      <th>avg_Solid_Solubility_atpct</th>\n",
              "      <th>...</th>\n",
              "      <th>mode_Bulk_modulus_RT_Gpa</th>\n",
              "      <th>mode_Elastic_modulus_RT_Gpa</th>\n",
              "      <th>mode_Shear_modulus_RT_Gpa</th>\n",
              "      <th>mode_Melting_point_(K)</th>\n",
              "      <th>mode_rate_shear_mod_Mpa_perK</th>\n",
              "      <th>mode_Solid_Solubility_atpct</th>\n",
              "      <th>mode_lattice_constant_A</th>\n",
              "      <th>mode_BEC_percm3</th>\n",
              "      <th>mode_Av.Valence_bond_strength_ev</th>\n",
              "      <th>mode_EngelZ_e/a</th>\n",
              "    </tr>\n",
              "  </thead>\n",
              "  <tbody>\n",
              "    <tr>\n",
              "      <th>0</th>\n",
              "      <td>1.8975</td>\n",
              "      <td>2.080</td>\n",
              "      <td>6.25</td>\n",
              "      <td>7.5075</td>\n",
              "      <td>232.5</td>\n",
              "      <td>323.00</td>\n",
              "      <td>98.00</td>\n",
              "      <td>2974.40</td>\n",
              "      <td>-14.089422</td>\n",
              "      <td>85.000</td>\n",
              "      <td>...</td>\n",
              "      <td>170.0</td>\n",
              "      <td>105.0</td>\n",
              "      <td>20.0</td>\n",
              "      <td>2583.15</td>\n",
              "      <td>-30.016346</td>\n",
              "      <td>40.0</td>\n",
              "      <td>2.70</td>\n",
              "      <td>2.750000e-21</td>\n",
              "      <td>3.779</td>\n",
              "      <td>5.0</td>\n",
              "    </tr>\n",
              "    <tr>\n",
              "      <th>1</th>\n",
              "      <td>1.9600</td>\n",
              "      <td>1.740</td>\n",
              "      <td>5.50</td>\n",
              "      <td>7.2150</td>\n",
              "      <td>220.0</td>\n",
              "      <td>243.75</td>\n",
              "      <td>66.50</td>\n",
              "      <td>2896.15</td>\n",
              "      <td>-8.834628</td>\n",
              "      <td>86.375</td>\n",
              "      <td>...</td>\n",
              "      <td>110.0</td>\n",
              "      <td>78.0</td>\n",
              "      <td>20.0</td>\n",
              "      <td>2500.15</td>\n",
              "      <td>-20.837452</td>\n",
              "      <td>45.5</td>\n",
              "      <td>2.76</td>\n",
              "      <td>1.810000e-21</td>\n",
              "      <td>3.775</td>\n",
              "      <td>4.0</td>\n",
              "    </tr>\n",
              "    <tr>\n",
              "      <th>2</th>\n",
              "      <td>2.0170</td>\n",
              "      <td>1.529</td>\n",
              "      <td>4.70</td>\n",
              "      <td>7.0550</td>\n",
              "      <td>158.0</td>\n",
              "      <td>142.65</td>\n",
              "      <td>37.90</td>\n",
              "      <td>2760.65</td>\n",
              "      <td>-5.851249</td>\n",
              "      <td>100.000</td>\n",
              "      <td>...</td>\n",
              "      <td>110.0</td>\n",
              "      <td>78.0</td>\n",
              "      <td>30.0</td>\n",
              "      <td>2500.15</td>\n",
              "      <td>-5.443103</td>\n",
              "      <td>100.0</td>\n",
              "      <td>3.20</td>\n",
              "      <td>1.810000e-21</td>\n",
              "      <td>3.775</td>\n",
              "      <td>4.0</td>\n",
              "    </tr>\n",
              "    <tr>\n",
              "      <th>3</th>\n",
              "      <td>1.8850</td>\n",
              "      <td>1.965</td>\n",
              "      <td>6.50</td>\n",
              "      <td>7.2900</td>\n",
              "      <td>247.5</td>\n",
              "      <td>336.00</td>\n",
              "      <td>102.25</td>\n",
              "      <td>2916.90</td>\n",
              "      <td>-14.977939</td>\n",
              "      <td>71.375</td>\n",
              "      <td>...</td>\n",
              "      <td>170.0</td>\n",
              "      <td>105.0</td>\n",
              "      <td>20.0</td>\n",
              "      <td>2583.15</td>\n",
              "      <td>-30.016346</td>\n",
              "      <td>40.0</td>\n",
              "      <td>2.70</td>\n",
              "      <td>2.750000e-21</td>\n",
              "      <td>3.779</td>\n",
              "      <td>5.0</td>\n",
              "    </tr>\n",
              "    <tr>\n",
              "      <th>4</th>\n",
              "      <td>1.8940</td>\n",
              "      <td>2.044</td>\n",
              "      <td>6.40</td>\n",
              "      <td>7.6120</td>\n",
              "      <td>260.0</td>\n",
              "      <td>351.00</td>\n",
              "      <td>114.00</td>\n",
              "      <td>3070.15</td>\n",
              "      <td>-15.439028</td>\n",
              "      <td>77.100</td>\n",
              "      <td>...</td>\n",
              "      <td>170.0</td>\n",
              "      <td>105.0</td>\n",
              "      <td>20.0</td>\n",
              "      <td>2583.15</td>\n",
              "      <td>-30.016346</td>\n",
              "      <td>40.0</td>\n",
              "      <td>2.70</td>\n",
              "      <td>2.750000e-21</td>\n",
              "      <td>3.779</td>\n",
              "      <td>5.0</td>\n",
              "    </tr>\n",
              "  </tbody>\n",
              "</table>\n",
              "<p>5 rows × 84 columns</p>\n",
              "</div>\n",
              "    <div class=\"colab-df-buttons\">\n",
              "\n",
              "  <div class=\"colab-df-container\">\n",
              "    <button class=\"colab-df-convert\" onclick=\"convertToInteractive('df-775091d1-3217-43a1-a626-6dbc82aaa12c')\"\n",
              "            title=\"Convert this dataframe to an interactive table.\"\n",
              "            style=\"display:none;\">\n",
              "\n",
              "  <svg xmlns=\"http://www.w3.org/2000/svg\" height=\"24px\" viewBox=\"0 -960 960 960\">\n",
              "    <path d=\"M120-120v-720h720v720H120Zm60-500h600v-160H180v160Zm220 220h160v-160H400v160Zm0 220h160v-160H400v160ZM180-400h160v-160H180v160Zm440 0h160v-160H620v160ZM180-180h160v-160H180v160Zm440 0h160v-160H620v160Z\"/>\n",
              "  </svg>\n",
              "    </button>\n",
              "\n",
              "  <style>\n",
              "    .colab-df-container {\n",
              "      display:flex;\n",
              "      gap: 12px;\n",
              "    }\n",
              "\n",
              "    .colab-df-convert {\n",
              "      background-color: #E8F0FE;\n",
              "      border: none;\n",
              "      border-radius: 50%;\n",
              "      cursor: pointer;\n",
              "      display: none;\n",
              "      fill: #1967D2;\n",
              "      height: 32px;\n",
              "      padding: 0 0 0 0;\n",
              "      width: 32px;\n",
              "    }\n",
              "\n",
              "    .colab-df-convert:hover {\n",
              "      background-color: #E2EBFA;\n",
              "      box-shadow: 0px 1px 2px rgba(60, 64, 67, 0.3), 0px 1px 3px 1px rgba(60, 64, 67, 0.15);\n",
              "      fill: #174EA6;\n",
              "    }\n",
              "\n",
              "    .colab-df-buttons div {\n",
              "      margin-bottom: 4px;\n",
              "    }\n",
              "\n",
              "    [theme=dark] .colab-df-convert {\n",
              "      background-color: #3B4455;\n",
              "      fill: #D2E3FC;\n",
              "    }\n",
              "\n",
              "    [theme=dark] .colab-df-convert:hover {\n",
              "      background-color: #434B5C;\n",
              "      box-shadow: 0px 1px 3px 1px rgba(0, 0, 0, 0.15);\n",
              "      filter: drop-shadow(0px 1px 2px rgba(0, 0, 0, 0.3));\n",
              "      fill: #FFFFFF;\n",
              "    }\n",
              "  </style>\n",
              "\n",
              "    <script>\n",
              "      const buttonEl =\n",
              "        document.querySelector('#df-775091d1-3217-43a1-a626-6dbc82aaa12c button.colab-df-convert');\n",
              "      buttonEl.style.display =\n",
              "        google.colab.kernel.accessAllowed ? 'block' : 'none';\n",
              "\n",
              "      async function convertToInteractive(key) {\n",
              "        const element = document.querySelector('#df-775091d1-3217-43a1-a626-6dbc82aaa12c');\n",
              "        const dataTable =\n",
              "          await google.colab.kernel.invokeFunction('convertToInteractive',\n",
              "                                                    [key], {});\n",
              "        if (!dataTable) return;\n",
              "\n",
              "        const docLinkHtml = 'Like what you see? Visit the ' +\n",
              "          '<a target=\"_blank\" href=https://colab.research.google.com/notebooks/data_table.ipynb>data table notebook</a>'\n",
              "          + ' to learn more about interactive tables.';\n",
              "        element.innerHTML = '';\n",
              "        dataTable['output_type'] = 'display_data';\n",
              "        await google.colab.output.renderOutput(dataTable, element);\n",
              "        const docLink = document.createElement('div');\n",
              "        docLink.innerHTML = docLinkHtml;\n",
              "        element.appendChild(docLink);\n",
              "      }\n",
              "    </script>\n",
              "  </div>\n",
              "\n",
              "\n",
              "<div id=\"df-48879d33-505b-4da1-8613-723e3bc6211a\">\n",
              "  <button class=\"colab-df-quickchart\" onclick=\"quickchart('df-48879d33-505b-4da1-8613-723e3bc6211a')\"\n",
              "            title=\"Suggest charts\"\n",
              "            style=\"display:none;\">\n",
              "\n",
              "<svg xmlns=\"http://www.w3.org/2000/svg\" height=\"24px\"viewBox=\"0 0 24 24\"\n",
              "     width=\"24px\">\n",
              "    <g>\n",
              "        <path d=\"M19 3H5c-1.1 0-2 .9-2 2v14c0 1.1.9 2 2 2h14c1.1 0 2-.9 2-2V5c0-1.1-.9-2-2-2zM9 17H7v-7h2v7zm4 0h-2V7h2v10zm4 0h-2v-4h2v4z\"/>\n",
              "    </g>\n",
              "</svg>\n",
              "  </button>\n",
              "\n",
              "<style>\n",
              "  .colab-df-quickchart {\n",
              "      --bg-color: #E8F0FE;\n",
              "      --fill-color: #1967D2;\n",
              "      --hover-bg-color: #E2EBFA;\n",
              "      --hover-fill-color: #174EA6;\n",
              "      --disabled-fill-color: #AAA;\n",
              "      --disabled-bg-color: #DDD;\n",
              "  }\n",
              "\n",
              "  [theme=dark] .colab-df-quickchart {\n",
              "      --bg-color: #3B4455;\n",
              "      --fill-color: #D2E3FC;\n",
              "      --hover-bg-color: #434B5C;\n",
              "      --hover-fill-color: #FFFFFF;\n",
              "      --disabled-bg-color: #3B4455;\n",
              "      --disabled-fill-color: #666;\n",
              "  }\n",
              "\n",
              "  .colab-df-quickchart {\n",
              "    background-color: var(--bg-color);\n",
              "    border: none;\n",
              "    border-radius: 50%;\n",
              "    cursor: pointer;\n",
              "    display: none;\n",
              "    fill: var(--fill-color);\n",
              "    height: 32px;\n",
              "    padding: 0;\n",
              "    width: 32px;\n",
              "  }\n",
              "\n",
              "  .colab-df-quickchart:hover {\n",
              "    background-color: var(--hover-bg-color);\n",
              "    box-shadow: 0 1px 2px rgba(60, 64, 67, 0.3), 0 1px 3px 1px rgba(60, 64, 67, 0.15);\n",
              "    fill: var(--button-hover-fill-color);\n",
              "  }\n",
              "\n",
              "  .colab-df-quickchart-complete:disabled,\n",
              "  .colab-df-quickchart-complete:disabled:hover {\n",
              "    background-color: var(--disabled-bg-color);\n",
              "    fill: var(--disabled-fill-color);\n",
              "    box-shadow: none;\n",
              "  }\n",
              "\n",
              "  .colab-df-spinner {\n",
              "    border: 2px solid var(--fill-color);\n",
              "    border-color: transparent;\n",
              "    border-bottom-color: var(--fill-color);\n",
              "    animation:\n",
              "      spin 1s steps(1) infinite;\n",
              "  }\n",
              "\n",
              "  @keyframes spin {\n",
              "    0% {\n",
              "      border-color: transparent;\n",
              "      border-bottom-color: var(--fill-color);\n",
              "      border-left-color: var(--fill-color);\n",
              "    }\n",
              "    20% {\n",
              "      border-color: transparent;\n",
              "      border-left-color: var(--fill-color);\n",
              "      border-top-color: var(--fill-color);\n",
              "    }\n",
              "    30% {\n",
              "      border-color: transparent;\n",
              "      border-left-color: var(--fill-color);\n",
              "      border-top-color: var(--fill-color);\n",
              "      border-right-color: var(--fill-color);\n",
              "    }\n",
              "    40% {\n",
              "      border-color: transparent;\n",
              "      border-right-color: var(--fill-color);\n",
              "      border-top-color: var(--fill-color);\n",
              "    }\n",
              "    60% {\n",
              "      border-color: transparent;\n",
              "      border-right-color: var(--fill-color);\n",
              "    }\n",
              "    80% {\n",
              "      border-color: transparent;\n",
              "      border-right-color: var(--fill-color);\n",
              "      border-bottom-color: var(--fill-color);\n",
              "    }\n",
              "    90% {\n",
              "      border-color: transparent;\n",
              "      border-bottom-color: var(--fill-color);\n",
              "    }\n",
              "  }\n",
              "</style>\n",
              "\n",
              "  <script>\n",
              "    async function quickchart(key) {\n",
              "      const quickchartButtonEl =\n",
              "        document.querySelector('#' + key + ' button');\n",
              "      quickchartButtonEl.disabled = true;  // To prevent multiple clicks.\n",
              "      quickchartButtonEl.classList.add('colab-df-spinner');\n",
              "      try {\n",
              "        const charts = await google.colab.kernel.invokeFunction(\n",
              "            'suggestCharts', [key], {});\n",
              "      } catch (error) {\n",
              "        console.error('Error during call to suggestCharts:', error);\n",
              "      }\n",
              "      quickchartButtonEl.classList.remove('colab-df-spinner');\n",
              "      quickchartButtonEl.classList.add('colab-df-quickchart-complete');\n",
              "    }\n",
              "    (() => {\n",
              "      let quickchartButtonEl =\n",
              "        document.querySelector('#df-48879d33-505b-4da1-8613-723e3bc6211a button');\n",
              "      quickchartButtonEl.style.display =\n",
              "        google.colab.kernel.accessAllowed ? 'block' : 'none';\n",
              "    })();\n",
              "  </script>\n",
              "</div>\n",
              "\n",
              "    </div>\n",
              "  </div>\n"
            ],
            "text/plain": [
              "   avg_Atomic_Radius  avg_Pauling_Electronegativity  \\\n",
              "0             1.8975                          2.080   \n",
              "1             1.9600                          1.740   \n",
              "2             2.0170                          1.529   \n",
              "3             1.8850                          1.965   \n",
              "4             1.8940                          2.044   \n",
              "\n",
              "   avg_number_of_valence_electrons  avg_Cohesive_energy_ev_atom  \\\n",
              "0                             6.25                       7.5075   \n",
              "1                             5.50                       7.2150   \n",
              "2                             4.70                       7.0550   \n",
              "3                             6.50                       7.2900   \n",
              "4                             6.40                       7.6120   \n",
              "\n",
              "   avg_Bulk_modulus_RT_Gpa  avg_Elastic_modulus_RT_Gpa  \\\n",
              "0                    232.5                      323.00   \n",
              "1                    220.0                      243.75   \n",
              "2                    158.0                      142.65   \n",
              "3                    247.5                      336.00   \n",
              "4                    260.0                      351.00   \n",
              "\n",
              "   avg_Shear_modulus_RT_Gpa  avg_Melting_point_(K)  \\\n",
              "0                     98.00                2974.40   \n",
              "1                     66.50                2896.15   \n",
              "2                     37.90                2760.65   \n",
              "3                    102.25                2916.90   \n",
              "4                    114.00                3070.15   \n",
              "\n",
              "   avg_rate_shear_mod_Mpa_perK  avg_Solid_Solubility_atpct  ...  \\\n",
              "0                   -14.089422                      85.000  ...   \n",
              "1                    -8.834628                      86.375  ...   \n",
              "2                    -5.851249                     100.000  ...   \n",
              "3                   -14.977939                      71.375  ...   \n",
              "4                   -15.439028                      77.100  ...   \n",
              "\n",
              "   mode_Bulk_modulus_RT_Gpa  mode_Elastic_modulus_RT_Gpa  \\\n",
              "0                     170.0                        105.0   \n",
              "1                     110.0                         78.0   \n",
              "2                     110.0                         78.0   \n",
              "3                     170.0                        105.0   \n",
              "4                     170.0                        105.0   \n",
              "\n",
              "   mode_Shear_modulus_RT_Gpa  mode_Melting_point_(K)  \\\n",
              "0                       20.0                 2583.15   \n",
              "1                       20.0                 2500.15   \n",
              "2                       30.0                 2500.15   \n",
              "3                       20.0                 2583.15   \n",
              "4                       20.0                 2583.15   \n",
              "\n",
              "   mode_rate_shear_mod_Mpa_perK  mode_Solid_Solubility_atpct  \\\n",
              "0                    -30.016346                         40.0   \n",
              "1                    -20.837452                         45.5   \n",
              "2                     -5.443103                        100.0   \n",
              "3                    -30.016346                         40.0   \n",
              "4                    -30.016346                         40.0   \n",
              "\n",
              "   mode_lattice_constant_A  mode_BEC_percm3  mode_Av.Valence_bond_strength_ev  \\\n",
              "0                     2.70     2.750000e-21                             3.779   \n",
              "1                     2.76     1.810000e-21                             3.775   \n",
              "2                     3.20     1.810000e-21                             3.775   \n",
              "3                     2.70     2.750000e-21                             3.779   \n",
              "4                     2.70     2.750000e-21                             3.779   \n",
              "\n",
              "   mode_EngelZ_e/a  \n",
              "0              5.0  \n",
              "1              4.0  \n",
              "2              4.0  \n",
              "3              5.0  \n",
              "4              5.0  \n",
              "\n",
              "[5 rows x 84 columns]"
            ]
          },
          "execution_count": 18,
          "metadata": {},
          "output_type": "execute_result"
        }
      ],
      "source": [
        "X1.head()"
      ]
    },
    {
      "cell_type": "code",
      "execution_count": null,
      "metadata": {
        "colab": {
          "background_save": true,
          "base_uri": "https://localhost:8080/"
        },
        "id": "MdJXaOfiPaKz",
        "outputId": "257cbfcc-dd60-449f-ef4d-79d659a22b19"
      },
      "outputs": [
        {
          "data": {
            "text/plain": [
              "Index(['avg_Atomic_Radius', 'avg_Pauling_Electronegativity',\n",
              "       'avg_number_of_valence_electrons', 'avg_Cohesive_energy_ev_atom',\n",
              "       'avg_Bulk_modulus_RT_Gpa', 'avg_Elastic_modulus_RT_Gpa',\n",
              "       'avg_Shear_modulus_RT_Gpa', 'avg_Melting_point_(K)',\n",
              "       'avg_rate_shear_mod_Mpa_perK', 'avg_Solid_Solubility_atpct',\n",
              "       'avg_lattice_constant_A', 'avg_BEC_percm3',\n",
              "       'avg_Av.Valence_bond_strength_ev', 'avg_EngelZ_e/a',\n",
              "       'dev_Atomic_Radius', 'dev_Pauling_Electronegativity',\n",
              "       'dev_number_of_valence_electrons', 'dev_Cohesive_energy_ev_atom',\n",
              "       'dev_Bulk_modulus_RT_Gpa', 'dev_Elastic_modulus_RT_Gpa',\n",
              "       'dev_Shear_modulus_RT_Gpa', 'dev_Melting_point_(K)',\n",
              "       'dev_rate_shear_mod_Mpa_perK', 'dev_Solid_Solubility_atpct',\n",
              "       'dev_lattice_constant_A', 'dev_BEC_percm3',\n",
              "       'dev_Av.Valence_bond_strength_ev', 'dev_EngelZ_e/a',\n",
              "       'range_Atomic_Radius', 'range_Pauling_Electronegativity',\n",
              "       'range_number_of_valence_electrons', 'range_Cohesive_energy_ev_atom',\n",
              "       'range_Bulk_modulus_RT_Gpa', 'range_Elastic_modulus_RT_Gpa',\n",
              "       'range_Shear_modulus_RT_Gpa', 'range_Melting_point_(K)',\n",
              "       'range_rate_shear_mod_Mpa_perK', 'range_Solid_Solubility_atpct',\n",
              "       'range_lattice_constant_A', 'range_BEC_percm3',\n",
              "       'range_Av.Valence_bond_strength_ev', 'range_EngelZ_e/a',\n",
              "       'max_Atomic_Radius', 'max_Pauling_Electronegativity',\n",
              "       'max_number_of_valence_electrons', 'max_Cohesive_energy_ev_atom',\n",
              "       'max_Bulk_modulus_RT_Gpa', 'max_Elastic_modulus_RT_Gpa',\n",
              "       'max_Shear_modulus_RT_Gpa', 'max_Melting_point_(K)',\n",
              "       'max_rate_shear_mod_Mpa_perK', 'max_Solid_Solubility_atpct',\n",
              "       'max_lattice_constant_A', 'max_BEC_percm3',\n",
              "       'max_Av.Valence_bond_strength_ev', 'max_EngelZ_e/a',\n",
              "       'min_Atomic_Radius', 'min_Pauling_Electronegativity',\n",
              "       'min_number_of_valence_electrons', 'min_Cohesive_energy_ev_atom',\n",
              "       'min_Bulk_modulus_RT_Gpa', 'min_Elastic_modulus_RT_Gpa',\n",
              "       'min_Shear_modulus_RT_Gpa', 'min_Melting_point_(K)',\n",
              "       'min_rate_shear_mod_Mpa_perK', 'min_Solid_Solubility_atpct',\n",
              "       'min_lattice_constant_A', 'min_BEC_percm3',\n",
              "       'min_Av.Valence_bond_strength_ev', 'min_EngelZ_e/a',\n",
              "       'mode_Atomic_Radius', 'mode_Pauling_Electronegativity',\n",
              "       'mode_number_of_valence_electrons', 'mode_Cohesive_energy_ev_atom',\n",
              "       'mode_Bulk_modulus_RT_Gpa', 'mode_Elastic_modulus_RT_Gpa',\n",
              "       'mode_Shear_modulus_RT_Gpa', 'mode_Melting_point_(K)',\n",
              "       'mode_rate_shear_mod_Mpa_perK', 'mode_Solid_Solubility_atpct',\n",
              "       'mode_lattice_constant_A', 'mode_BEC_percm3',\n",
              "       'mode_Av.Valence_bond_strength_ev', 'mode_EngelZ_e/a'],\n",
              "      dtype='object')"
            ]
          },
          "execution_count": 19,
          "metadata": {},
          "output_type": "execute_result"
        }
      ],
      "source": [
        "X1.columns"
      ]
    },
    {
      "cell_type": "code",
      "execution_count": null,
      "metadata": {
        "colab": {
          "background_save": true
        },
        "id": "B2v1SNGrafuT"
      },
      "outputs": [],
      "source": [
        "X_unscaled_avg = X[['sum_Atomic_Number','sum_Atomic_Weight','sum_Period','sum_group','sum_families','sum_Metal','sum_Nonmetal','sum_Metalliod','sum_Mendeleev_Number','sum_l_quantum_number','mode_Melting_point_(K)','mode_Boiling_Point_(K)','mode_Density_(g/mL)','mode_specific_heat_(J/g_K)_','mode_heat_of_fusion_(kJ/mol)_','mode_heat_of_vaporization_(kJ/mol)_','mode_thermal_conductivity_(W/(m_K))_','mode_heat_atomization(kJ/mol)','mode_Cohesive_energy']]\n",
        "X1_unscaled_avg  = X1[['avg_Atomic_Radius', 'avg_Pauling_Electronegativity',\n",
        "       'avg_number_of_valence_electrons', 'avg_Cohesive_energy_ev_atom',\n",
        "       'avg_Bulk_modulus_RT_Gpa', 'avg_Elastic_modulus_RT_Gpa',\n",
        "       'avg_Shear_modulus_RT_Gpa', 'avg_Melting_point_(K)',\n",
        "       'avg_rate_shear_mod_Mpa_perK', 'avg_Solid_Solubility_atpct',\n",
        "       'avg_lattice_constant_A', 'avg_BEC_percm3',\n",
        "       'avg_Av.Valence_bond_strength_ev', 'avg_EngelZ_e/a',\n",
        "       'dev_Atomic_Radius', 'dev_Pauling_Electronegativity',\n",
        "       'dev_number_of_valence_electrons', 'dev_Cohesive_energy_ev_atom',\n",
        "       'dev_Bulk_modulus_RT_Gpa', 'dev_Elastic_modulus_RT_Gpa',\n",
        "       'dev_Shear_modulus_RT_Gpa', 'dev_Melting_point_(K)',\n",
        "       'dev_rate_shear_mod_Mpa_perK', 'dev_Solid_Solubility_atpct',\n",
        "       'dev_lattice_constant_A', 'dev_BEC_percm3',\n",
        "       'dev_Av.Valence_bond_strength_ev', 'dev_EngelZ_e/a',\n",
        "       'range_Atomic_Radius', 'range_Pauling_Electronegativity',\n",
        "       'range_number_of_valence_electrons', 'range_Cohesive_energy_ev_atom',\n",
        "       'range_Bulk_modulus_RT_Gpa', 'range_Elastic_modulus_RT_Gpa',\n",
        "       'range_Shear_modulus_RT_Gpa', 'range_Melting_point_(K)',\n",
        "       'range_rate_shear_mod_Mpa_perK', 'range_Solid_Solubility_atpct',\n",
        "       'range_lattice_constant_A', 'range_BEC_percm3',\n",
        "       'range_Av.Valence_bond_strength_ev', 'range_EngelZ_e/a',\n",
        "       'max_Atomic_Radius', 'max_Pauling_Electronegativity',\n",
        "       'max_number_of_valence_electrons', 'max_Cohesive_energy_ev_atom',\n",
        "       'max_Bulk_modulus_RT_Gpa', 'max_Elastic_modulus_RT_Gpa',\n",
        "       'max_Shear_modulus_RT_Gpa', 'max_Melting_point_(K)',\n",
        "       'max_rate_shear_mod_Mpa_perK', 'max_Solid_Solubility_atpct',\n",
        "       'max_lattice_constant_A', 'max_BEC_percm3',\n",
        "       'max_Av.Valence_bond_strength_ev', 'max_EngelZ_e/a',\n",
        "       'min_Atomic_Radius', 'min_Pauling_Electronegativity',\n",
        "       'min_number_of_valence_electrons', 'min_Cohesive_energy_ev_atom',\n",
        "       'min_Bulk_modulus_RT_Gpa', 'min_Elastic_modulus_RT_Gpa',\n",
        "       'min_Shear_modulus_RT_Gpa', 'min_Melting_point_(K)',\n",
        "       'min_rate_shear_mod_Mpa_perK', 'min_Solid_Solubility_atpct',\n",
        "       'min_lattice_constant_A', 'min_BEC_percm3',\n",
        "       'min_Av.Valence_bond_strength_ev', 'min_EngelZ_e/a',\n",
        "       'mode_Atomic_Radius', 'mode_Pauling_Electronegativity',\n",
        "       'mode_number_of_valence_electrons', 'mode_Cohesive_energy_ev_atom',\n",
        "       'mode_Bulk_modulus_RT_Gpa', 'mode_Elastic_modulus_RT_Gpa',\n",
        "       'mode_Shear_modulus_RT_Gpa', 'mode_Melting_point_(K)',\n",
        "       'mode_rate_shear_mod_Mpa_perK', 'mode_Solid_Solubility_atpct',\n",
        "       'mode_lattice_constant_A', 'mode_BEC_percm3',\n",
        "       'mode_Av.Valence_bond_strength_ev', 'mode_EngelZ_e/a']]"
      ]
    },
    {
      "cell_type": "markdown",
      "metadata": {
        "id": "Xfc0glykp_yz"
      },
      "source": [
        "**STANDARD SCALING**"
      ]
    },
    {
      "cell_type": "code",
      "execution_count": null,
      "metadata": {
        "colab": {
          "background_save": true
        },
        "id": "vxP9MUToe6zI"
      },
      "outputs": [],
      "source": [
        "scaler = StandardScaler()\n",
        "X_scaled = scaler.fit_transform(X_unscaled_avg)\n",
        "X1_scaled = scaler.fit_transform(X1_unscaled_avg)"
      ]
    },
    {
      "cell_type": "code",
      "execution_count": null,
      "metadata": {
        "colab": {
          "background_save": true
        },
        "id": "1IgKNI_dxpSb"
      },
      "outputs": [],
      "source": [
        "y_combined = pd.concat([y, ya], axis=1)\n",
        "y1_combined = pd.concat([y1, y1a], axis=1)"
      ]
    },
    {
      "cell_type": "code",
      "execution_count": null,
      "metadata": {
        "colab": {
          "background_save": true
        },
        "id": "T1vdK77d1Q7v"
      },
      "outputs": [],
      "source": [
        "y_combined = scaler.fit_transform(y_combined)\n",
        "y1_combined = scaler.fit_transform(y1_combined)"
      ]
    },
    {
      "cell_type": "markdown",
      "metadata": {
        "id": "UrnAlOjsqDdD"
      },
      "source": [
        "**SPLITTING DATASET FOR TRAINING AND TESTING**"
      ]
    },
    {
      "cell_type": "code",
      "execution_count": null,
      "metadata": {
        "colab": {
          "background_save": true
        },
        "id": "vuiBfsAH79QX"
      },
      "outputs": [],
      "source": [
        "X_train,X_test,y_train_combined,y_test_combined,formulae_train, formulae_test=train_test_split(X_scaled,y_combined,formulae,test_size=0.2,random_state=21)\n",
        "X1_train,X1_test,y1_train_combined,y1_test_combined,formulae1_train, formulae1_test=train_test_split(X1_scaled,y_combined,formulae,test_size=0.2,random_state=21)"
      ]
    },
    {
      "cell_type": "code",
      "execution_count": null,
      "metadata": {
        "colab": {
          "background_save": true
        },
        "id": "V0uaz2a37-yo"
      },
      "outputs": [],
      "source": [
        "y_train_combined = pd.DataFrame(y_train_combined)\n",
        "y_test_combined = pd.DataFrame(y_test_combined)\n",
        "y1_train_combined = pd.DataFrame(y1_train_combined)\n",
        "y1_test_combined = pd.DataFrame(y1_test_combined)"
      ]
    },
    {
      "cell_type": "code",
      "execution_count": null,
      "metadata": {
        "id": "An0J4s7x8AFX"
      },
      "outputs": [],
      "source": [
        "y_train = y_train_combined.iloc[:, 0]\n",
        "ya_train = y_train_combined.iloc[:, 1]\n",
        "y_test = y_test_combined.iloc[:, 0]\n",
        "ya_test = y_test_combined.iloc[:, 1]\n",
        "\n",
        "y1_train = y1_train_combined.iloc[:, 0]\n",
        "y1a_train = y1_train_combined.iloc[:, 1]\n",
        "y1_test = y1_test_combined.iloc[:, 0]\n",
        "y1a_test = y1_test_combined.iloc[:, 1]"
      ]
    },
    {
      "cell_type": "code",
      "execution_count": null,
      "metadata": {
        "id": "WBxu4eja8Byv"
      },
      "outputs": [],
      "source": [
        "from sklearn.ensemble import GradientBoostingRegressor\n",
        "rng_seed = 20\n",
        "\n",
        "gbr_model = GradientBoostingRegressor(random_state=rng_seed, criterion='squared_error')\n",
        "gbr_modela = GradientBoostingRegressor(random_state=rng_seed, criterion='squared_error')\n",
        "\n",
        "gbr_model1 = GradientBoostingRegressor(random_state=rng_seed, criterion='squared_error')\n",
        "gbr_model1a = GradientBoostingRegressor(random_state=rng_seed, criterion='squared_error')\n",
        "\n",
        "gbr_model.fit(X_train,y_train)\n",
        "gbr_modela.fit(X_train,ya_train)\n",
        "\n",
        "gbr_model1.fit(X1_train,y1_train)\n",
        "gbr_model1a.fit(X1_train,y1a_train)\n",
        "\n",
        "y_train_predict=gbr_model.predict(X_train)\n",
        "y_test_predict=gbr_model.predict(X_test)\n",
        "\n",
        "ya_train_predict=gbr_modela.predict(X_train)\n",
        "ya_test_predict=gbr_modela.predict(X_test)\n",
        "\n",
        "\n",
        "y1_train_predict=gbr_model1.predict(X1_train)\n",
        "y1_test_predict=gbr_model1.predict(X1_test)\n",
        "\n",
        "y1a_train_predict=gbr_model1a.predict(X1_train)\n",
        "y1a_test_predict=gbr_model1a.predict(X1_test)"
      ]
    },
    {
      "cell_type": "code",
      "execution_count": null,
      "metadata": {
        "id": "rBeOVqz4984_"
      },
      "outputs": [],
      "source": [
        "r2_train = r2_score(y_train,y_train_predict)\n",
        "r2_test = r2_score(y_test,y_test_predict)\n",
        "\n",
        "rmse_train = mean_squared_error(y_train,y_train_predict,squared=True)\n",
        "rmse_test = mean_squared_error(y_test,y_test_predict,squared=True)\n",
        "\n",
        "r2a_train = r2_score(ya_train,ya_train_predict)\n",
        "r2a_test = r2_score(ya_test,ya_test_predict)\n",
        "\n",
        "rmsea_train = mean_squared_error(ya_train,ya_train_predict,squared=True)\n",
        "rmsea_test = mean_squared_error(ya_test,ya_test_predict,squared=True)\n",
        "\n",
        "\n",
        "\n",
        "r21_train = r2_score(y1_train,y1_train_predict)\n",
        "r21_test = r2_score(y1_test,y1_test_predict)\n",
        "\n",
        "rmse1_train = mean_squared_error(y1_train,y1_train_predict,squared=True)\n",
        "rmse1_test = mean_squared_error(y1_test,y1_test_predict,squared=True)\n",
        "\n",
        "r21a_train = r2_score(y1a_train,y1a_train_predict)\n",
        "r21a_test = r2_score(y1a_test,y1a_test_predict)\n",
        "\n",
        "rmse1a_train = mean_squared_error(y1a_train,y1a_train_predict,squared=True)\n",
        "rmse1a_test = mean_squared_error(y1a_test,y1a_test_predict,squared=True)"
      ]
    },
    {
      "cell_type": "code",
      "execution_count": null,
      "metadata": {
        "colab": {
          "base_uri": "https://localhost:8080/"
        },
        "id": "y4im8wWw99jO",
        "outputId": "8f6e37d1-1488-411d-e4f2-f88818ff9abb"
      },
      "outputs": [
        {
          "name": "stdout",
          "output_type": "stream",
          "text": [
            "Model with oliynyk: \n",
            "Hardness: \n",
            "R Squared Value of Training Data =  0.9988923576897035\n",
            "R Squared Value of Testing Data =  -0.35613987483596166\n",
            "RMSE Value of Training Data =  0.0011225291386724816\n",
            "RMSE Value of Testing Data =  1.0709348519192845\n",
            "Temperature: \n",
            "R Squared Value of Training Data =  0.9985895162871837\n",
            "R Squared Value of Testing Data =  0.8992926914377454\n",
            "RMSE Value of Training Data =  0.001351846877633017\n",
            "RMSE Value of Testing Data =  0.11462912124411404\n",
            "\n",
            "Model with f3_revised:\n",
            "Hardness:\n",
            "R Squared Value of Training Data =  0.9998499215471893\n",
            "R Squared Value of Testing Data =  0.6713753032466311\n",
            "RMSE Value of Training Data =  0.00015209552289652235\n",
            "RMSE Value of Testing Data =  0.25951278882435264\n",
            "Temperature:\n",
            "R Squared Value of Training Data =  0.9985562382374467\n",
            "R Squared Value of Testing Data =  0.9543102854567134\n",
            "RMSE Value of Training Data =  0.0013837414874196866\n",
            "RMSE Value of Testing Data =  0.05200587626422126\n"
          ]
        }
      ],
      "source": [
        "print(\"Model with oliynyk: \")\n",
        "print(\"Hardness: \")\n",
        "print(\"R Squared Value of Training Data = \", r2_train)\n",
        "print(\"R Squared Value of Testing Data = \", r2_test)\n",
        "\n",
        "print(\"RMSE Value of Training Data = \", rmse_train)\n",
        "print(\"RMSE Value of Testing Data = \", rmse_test)\n",
        "\n",
        "print(\"Temperature: \")\n",
        "print(\"R Squared Value of Training Data = \", r2a_train)\n",
        "print(\"R Squared Value of Testing Data = \", r2a_test)\n",
        "\n",
        "print(\"RMSE Value of Training Data = \", rmsea_train)\n",
        "print(\"RMSE Value of Testing Data = \", rmsea_test)\n",
        "\n",
        "print(\"\")\n",
        "\n",
        "print(\"Model with f3_revised:\")\n",
        "print(\"Hardness:\")\n",
        "print(\"R Squared Value of Training Data = \", r21_train)\n",
        "print(\"R Squared Value of Testing Data = \", r21_test)\n",
        "\n",
        "print(\"RMSE Value of Training Data = \", rmse1_train)\n",
        "print(\"RMSE Value of Testing Data = \", rmse1_test)\n",
        "\n",
        "print(\"Temperature:\")\n",
        "print(\"R Squared Value of Training Data = \", r21a_train)\n",
        "print(\"R Squared Value of Testing Data = \", r21a_test)\n",
        "\n",
        "print(\"RMSE Value of Training Data = \", rmse1a_train)\n",
        "print(\"RMSE Value of Testing Data = \", rmse1a_test)"
      ]
    },
    {
      "cell_type": "code",
      "execution_count": null,
      "metadata": {
        "id": "Lw7lTj59e9BH"
      },
      "outputs": [],
      "source": [
        "X_train,X_test,y_train_combined,y_test_combined,formulae_train, formulae_test=train_test_split(X_scaled,y_combined,formulae,test_size=0.2,random_state=21)\n",
        "X1_train,X1_test,y1_train_combined,y1_test_combined,formulae1_train, formulae1_test=train_test_split(X1_scaled,y_combined,formulae,test_size=0.2,random_state=21)"
      ]
    },
    {
      "cell_type": "code",
      "execution_count": null,
      "metadata": {
        "id": "-W9Fm_GP17CD"
      },
      "outputs": [],
      "source": [
        "y_train_combined = pd.DataFrame(y_train_combined)\n",
        "y_test_combined = pd.DataFrame(y_test_combined)\n",
        "y1_train_combined = pd.DataFrame(y1_train_combined)\n",
        "y1_test_combined = pd.DataFrame(y1_test_combined)"
      ]
    },
    {
      "cell_type": "code",
      "execution_count": null,
      "metadata": {
        "id": "JyegV38Tyaz5"
      },
      "outputs": [],
      "source": [
        "y_train = y_train_combined.iloc[:, 0]\n",
        "ya_train = y_train_combined.iloc[:, 1]\n",
        "y_test = y_test_combined.iloc[:, 0]\n",
        "ya_test = y_test_combined.iloc[:, 1]\n",
        "\n",
        "y1_train = y1_train_combined.iloc[:, 0]\n",
        "y1a_train = y1_train_combined.iloc[:, 1]\n",
        "y1_test = y1_test_combined.iloc[:, 0]\n",
        "y1a_test = y1_test_combined.iloc[:, 1]"
      ]
    },
    {
      "cell_type": "markdown",
      "metadata": {
        "id": "txs8vtitqKp6"
      },
      "source": [
        "**GRADIENT BOOSTING REGRESSOR MODEL**"
      ]
    },
    {
      "cell_type": "code",
      "execution_count": null,
      "metadata": {
        "id": "SbpbJRNqe-34"
      },
      "outputs": [],
      "source": [
        "from sklearn.ensemble import GradientBoostingRegressor\n",
        "rng_seed = 20\n",
        "\n",
        "gbr_model = GradientBoostingRegressor(random_state=rng_seed, criterion='squared_error')\n",
        "gbr_modela = GradientBoostingRegressor(random_state=rng_seed, criterion='squared_error')\n",
        "\n",
        "gbr_model1 = GradientBoostingRegressor(random_state=rng_seed, criterion='squared_error')\n",
        "gbr_model1a = GradientBoostingRegressor(random_state=rng_seed, criterion='squared_error')\n",
        "\n",
        "gbr_model.fit(X_train,y_train)\n",
        "gbr_modela.fit(X_train,ya_train)\n",
        "\n",
        "gbr_model1.fit(X1_train,y1_train)\n",
        "gbr_model1a.fit(X1_train,y1a_train)\n",
        "\n",
        "y_train_predict=gbr_model.predict(X_train)\n",
        "y_test_predict=gbr_model.predict(X_test)\n",
        "\n",
        "ya_train_predict=gbr_modela.predict(X_train)\n",
        "ya_test_predict=gbr_modela.predict(X_test)\n",
        "\n",
        "\n",
        "y1_train_predict=gbr_model1.predict(X1_train)\n",
        "y1_test_predict=gbr_model1.predict(X1_test)\n",
        "\n",
        "y1a_train_predict=gbr_model1a.predict(X1_train)\n",
        "y1a_test_predict=gbr_model1a.predict(X1_test)"
      ]
    },
    {
      "cell_type": "markdown",
      "metadata": {
        "id": "qZ0EM1SCrFdM"
      },
      "source": [
        "**ACCURACY**"
      ]
    },
    {
      "cell_type": "code",
      "execution_count": null,
      "metadata": {
        "id": "8sSVTrevfcLR"
      },
      "outputs": [],
      "source": [
        "r2_train = r2_score(y_train,y_train_predict)\n",
        "r2_test = r2_score(y_test,y_test_predict)\n",
        "\n",
        "rmse_train = mean_squared_error(y_train,y_train_predict,squared=True)\n",
        "rmse_test = mean_squared_error(y_test,y_test_predict,squared=True)\n",
        "\n",
        "r2a_train = r2_score(ya_train,ya_train_predict)\n",
        "r2a_test = r2_score(ya_test,ya_test_predict)\n",
        "\n",
        "rmsea_train = mean_squared_error(ya_train,ya_train_predict,squared=True)\n",
        "rmsea_test = mean_squared_error(ya_test,ya_test_predict,squared=True)\n",
        "\n",
        "\n",
        "\n",
        "r21_train = r2_score(y1_train,y1_train_predict)\n",
        "r21_test = r2_score(y1_test,y1_test_predict)\n",
        "\n",
        "rmse1_train = mean_squared_error(y1_train,y1_train_predict,squared=True)\n",
        "rmse1_test = mean_squared_error(y1_test,y1_test_predict,squared=True)\n",
        "\n",
        "r21a_train = r2_score(y1a_train,y1a_train_predict)\n",
        "r21a_test = r2_score(y1a_test,y1a_test_predict)\n",
        "\n",
        "rmse1a_train = mean_squared_error(y1a_train,y1a_train_predict,squared=True)\n",
        "rmse1a_test = mean_squared_error(y1a_test,y1a_test_predict,squared=True)"
      ]
    },
    {
      "cell_type": "code",
      "execution_count": null,
      "metadata": {
        "colab": {
          "base_uri": "https://localhost:8080/"
        },
        "id": "t7o1nLJGflg4",
        "outputId": "df3fce4f-a437-4c1c-c0a7-3d1468846b2b"
      },
      "outputs": [
        {
          "name": "stdout",
          "output_type": "stream",
          "text": [
            "Model with oliynyk: \n",
            "Hardness: \n",
            "R Squared Value of Training Data =  0.9988923576897035\n",
            "R Squared Value of Testing Data =  -0.35613987483596166\n",
            "RMSE Value of Training Data =  0.0011225291386724816\n",
            "RMSE Value of Testing Data =  1.0709348519192845\n",
            "Temperature: \n",
            "R Squared Value of Training Data =  0.9985895162871837\n",
            "R Squared Value of Testing Data =  0.8992926914377454\n",
            "RMSE Value of Training Data =  0.001351846877633017\n",
            "RMSE Value of Testing Data =  0.11462912124411404\n",
            "\n",
            "Model with f3_revised:\n",
            "Hardness:\n",
            "R Squared Value of Training Data =  0.9998499215471893\n",
            "R Squared Value of Testing Data =  0.6713753032466311\n",
            "RMSE Value of Training Data =  0.00015209552289652235\n",
            "RMSE Value of Testing Data =  0.25951278882435264\n",
            "Temperature:\n",
            "R Squared Value of Training Data =  0.9985562382374467\n",
            "R Squared Value of Testing Data =  0.9543102854567134\n",
            "RMSE Value of Training Data =  0.0013837414874196866\n",
            "RMSE Value of Testing Data =  0.05200587626422126\n"
          ]
        }
      ],
      "source": [
        "print(\"Model with oliynyk: \")\n",
        "print(\"Hardness: \")\n",
        "print(\"R Squared Value of Training Data = \", r2_train)\n",
        "print(\"R Squared Value of Testing Data = \", r2_test)\n",
        "\n",
        "print(\"RMSE Value of Training Data = \", rmse_train)\n",
        "print(\"RMSE Value of Testing Data = \", rmse_test)\n",
        "\n",
        "print(\"Temperature: \")\n",
        "print(\"R Squared Value of Training Data = \", r2a_train)\n",
        "print(\"R Squared Value of Testing Data = \", r2a_test)\n",
        "\n",
        "print(\"RMSE Value of Training Data = \", rmsea_train)\n",
        "print(\"RMSE Value of Testing Data = \", rmsea_test)\n",
        "\n",
        "print(\"\")\n",
        "\n",
        "print(\"Model with f3_revised:\")\n",
        "print(\"Hardness:\")\n",
        "print(\"R Squared Value of Training Data = \", r21_train)\n",
        "print(\"R Squared Value of Testing Data = \", r21_test)\n",
        "\n",
        "print(\"RMSE Value of Training Data = \", rmse1_train)\n",
        "print(\"RMSE Value of Testing Data = \", rmse1_test)\n",
        "\n",
        "print(\"Temperature:\")\n",
        "print(\"R Squared Value of Training Data = \", r21a_train)\n",
        "print(\"R Squared Value of Testing Data = \", r21a_test)\n",
        "\n",
        "print(\"RMSE Value of Training Data = \", rmse1a_train)\n",
        "print(\"RMSE Value of Testing Data = \", rmse1a_test)"
      ]
    },
    {
      "cell_type": "markdown",
      "metadata": {
        "id": "WE2D7U4X3-HO"
      },
      "source": [
        "Since the f3_revised models are giving better accuracy, we will use it from now on"
      ]
    },
    {
      "cell_type": "markdown",
      "metadata": {
        "id": "hFcCwK4eqb6D"
      },
      "source": [
        "**SCATTER PLOTS**"
      ]
    },
    {
      "cell_type": "code",
      "execution_count": null,
      "metadata": {
        "colab": {
          "base_uri": "https://localhost:8080/",
          "height": 489
        },
        "id": "na4nsi7ygn1I",
        "outputId": "b794ba21-e662-42f6-de07-ca11d8bbc94c"
      },
      "outputs": [
        {
          "data": {
            "text/plain": [
              "Text(0.5, 1.0, 'Training Data: True vs Predicted Hardness')"
            ]
          },
          "execution_count": 36,
          "metadata": {},
          "output_type": "execute_result"
        },
        {
          "data": {
            "image/png": "[encoded data removed]",
            "text/plain": [
              "<Figure size 640x480 with 1 Axes>"
            ]
          },
          "metadata": {},
          "output_type": "display_data"
        }
      ],
      "source": [
        "plt.scatter(y1_train, y1_train_predict, color='green')\n",
        "plt.plot(y1_train, y1_train, color='black', linewidth=2)\n",
        "plt.xlabel(\"True Value\")\n",
        "plt.ylabel(\"Predicted Value\")\n",
        "plt.title(\"Training Data: True vs Predicted Hardness\")"
      ]
    },
    {
      "cell_type": "code",
      "execution_count": null,
      "metadata": {
        "colab": {
          "base_uri": "https://localhost:8080/",
          "height": 489
        },
        "id": "dKnx7YhJ3FNZ",
        "outputId": "15fc5737-6fb6-4f3b-be90-87b290cf591d"
      },
      "outputs": [
        {
          "data": {
            "text/plain": [
              "Text(0.5, 1.0, 'Training Data: True vs Predicted Temperature')"
            ]
          },
          "execution_count": 37,
          "metadata": {},
          "output_type": "execute_result"
        },
        {
          "data": {
            "image/png": "[encoded data removed]",
            "text/plain": [
              "<Figure size 640x480 with 1 Axes>"
            ]
          },
          "metadata": {},
          "output_type": "display_data"
        }
      ],
      "source": [
        "plt.scatter(y1a_train, y1a_train_predict, color='green')\n",
        "plt.plot(y1a_train, y1a_train, color='black', linewidth=2)\n",
        "plt.xlabel(\"True Value\")\n",
        "plt.ylabel(\"Predicted Value\")\n",
        "plt.title(\"Training Data: True vs Predicted Temperature\")"
      ]
    },
    {
      "cell_type": "code",
      "execution_count": null,
      "metadata": {
        "colab": {
          "base_uri": "https://localhost:8080/",
          "height": 472
        },
        "id": "ctMNUDslhHrt",
        "outputId": "50f52bc4-afbf-4fa9-c1b8-080cef4db7ca"
      },
      "outputs": [
        {
          "data": {
            "image/png": "[encoded data removed]",
            "text/plain": [
              "<Figure size 640x480 with 1 Axes>"
            ]
          },
          "metadata": {},
          "output_type": "display_data"
        }
      ],
      "source": [
        "plt.scatter(y1_test, y1_test_predict, color='blue')\n",
        "plt.plot(y1_test, y1_test, color='black', linewidth=2)\n",
        "plt.xlabel(\"True Values\")\n",
        "plt.ylabel(\"Predicted Values\")\n",
        "plt.title(\"Testing Data: True vs Predicted Hardness\")\n",
        "plt.show()"
      ]
    },
    {
      "cell_type": "code",
      "execution_count": null,
      "metadata": {
        "colab": {
          "base_uri": "https://localhost:8080/",
          "height": 472
        },
        "id": "UlfKIOF13qyV",
        "outputId": "c564a5fb-88dd-46ed-ac5b-3a76ff42f772"
      },
      "outputs": [
        {
          "data": {
            "image/png": "[encoded data removed]",
            "text/plain": [
              "<Figure size 640x480 with 1 Axes>"
            ]
          },
          "metadata": {},
          "output_type": "display_data"
        }
      ],
      "source": [
        "plt.scatter(y1a_test, y1a_test_predict, color='blue')\n",
        "plt.plot(y1a_test, y1a_test, color='black', linewidth=2)\n",
        "plt.xlabel(\"True Values\")\n",
        "plt.ylabel(\"Predicted Values\")\n",
        "plt.title(\"Testing Data: True vs Predicted Temperature\")\n",
        "plt.show()"
      ]
    },
    {
      "cell_type": "markdown",
      "metadata": {
        "id": "Q4owlkx9Azj_"
      },
      "source": [
        "**Generating Virtual Samples**"
      ]
    },
    {
      "cell_type": "code",
      "execution_count": null,
      "metadata": {
        "id": "zVmeLLxrFqbP"
      },
      "outputs": [],
      "source": [
        "elements = ['Mo', 'Hf', 'Nb', 'W', 'Ti']"
      ]
    },
    {
      "cell_type": "code",
      "execution_count": null,
      "metadata": {
        "id": "KCiQ3lnQhh27"
      },
      "outputs": [],
      "source": [
        "def generate_random_composition(elements, n_samples):\n",
        "    compositions = []\n",
        "    for _ in range(n_samples):\n",
        "        comp = np.random.dirichlet(np.ones(len(elements)), size=1)[0]\n",
        "        comp_pct = (comp * 100).round(2)\n",
        "        formula = ' '.join([f\"{element}{value:.2f}\" for element, value in zip(elements, comp_pct)])\n",
        "        compositions.append(formula)\n",
        "    return pd.DataFrame(compositions, columns=['formula'])"
      ]
    },
    {
      "cell_type": "markdown",
      "metadata": {
        "id": "vCt05_jvrUig"
      },
      "source": [
        "**Generating 1000 SAMPLES FROM TEST FILE**"
      ]
    },
    {
      "cell_type": "code",
      "execution_count": null,
      "metadata": {
        "id": "q6bLTru4hlr7"
      },
      "outputs": [],
      "source": [
        "virtual_samples = generate_random_composition(elements, 1000)"
      ]
    },
    {
      "cell_type": "code",
      "execution_count": null,
      "metadata": {
        "colab": {
          "base_uri": "https://localhost:8080/",
          "height": 206
        },
        "id": "HjEGKKONhmZy",
        "outputId": "ca26bdbb-a6d9-4c50-cc17-c61845764d06"
      },
      "outputs": [
        {
          "data": {
            "application/vnd.google.colaboratory.intrinsic+json": {
              "summary": "{\n  \"name\": \"virtual_samples\",\n  \"rows\": 1000,\n  \"fields\": [\n    {\n      \"column\": \"formula\",\n      \"properties\": {\n        \"dtype\": \"string\",\n        \"num_unique_values\": 1000,\n        \"samples\": [\n          \"Mo15.26 Hf30.90 Nb8.35 W4.86 Ti40.63\",\n          \"Mo7.57 Hf35.54 Nb13.09 W16.50 Ti27.29\",\n          \"Mo21.12 Hf39.60 Nb27.08 W2.96 Ti9.24\"\n        ],\n        \"semantic_type\": \"\",\n        \"description\": \"\"\n      }\n    }\n  ]\n}",
              "type": "dataframe",
              "variable_name": "virtual_samples"
            },
            "text/html": [
              "\n",
              "  <div id=\"df-04ad7c6d-1ac9-4b04-a518-dd3e910b19af\" class=\"colab-df-container\">\n",
              "    <div>\n",
              "<style scoped>\n",
              "    .dataframe tbody tr th:only-of-type {\n",
              "        vertical-align: middle;\n",
              "    }\n",
              "\n",
              "    .dataframe tbody tr th {\n",
              "        vertical-align: top;\n",
              "    }\n",
              "\n",
              "    .dataframe thead th {\n",
              "        text-align: right;\n",
              "    }\n",
              "</style>\n",
              "<table border=\"1\" class=\"dataframe\">\n",
              "  <thead>\n",
              "    <tr style=\"text-align: right;\">\n",
              "      <th></th>\n",
              "      <th>formula</th>\n",
              "    </tr>\n",
              "  </thead>\n",
              "  <tbody>\n",
              "    <tr>\n",
              "      <th>0</th>\n",
              "      <td>Mo50.89 Hf36.86 Nb4.28 W4.63 Ti3.34</td>\n",
              "    </tr>\n",
              "    <tr>\n",
              "      <th>1</th>\n",
              "      <td>Mo25.49 Hf39.49 Nb4.90 W11.86 Ti18.26</td>\n",
              "    </tr>\n",
              "    <tr>\n",
              "      <th>2</th>\n",
              "      <td>Mo32.72 Hf11.76 Nb37.11 W17.06 Ti1.36</td>\n",
              "    </tr>\n",
              "    <tr>\n",
              "      <th>3</th>\n",
              "      <td>Mo1.49 Hf16.82 Nb9.32 W61.16 Ti11.21</td>\n",
              "    </tr>\n",
              "    <tr>\n",
              "      <th>4</th>\n",
              "      <td>Mo11.52 Hf36.40 Nb6.82 W17.17 Ti28.09</td>\n",
              "    </tr>\n",
              "  </tbody>\n",
              "</table>\n",
              "</div>\n",
              "    <div class=\"colab-df-buttons\">\n",
              "\n",
              "  <div class=\"colab-df-container\">\n",
              "    <button class=\"colab-df-convert\" onclick=\"convertToInteractive('df-04ad7c6d-1ac9-4b04-a518-dd3e910b19af')\"\n",
              "            title=\"Convert this dataframe to an interactive table.\"\n",
              "            style=\"display:none;\">\n",
              "\n",
              "  <svg xmlns=\"http://www.w3.org/2000/svg\" height=\"24px\" viewBox=\"0 -960 960 960\">\n",
              "    <path d=\"M120-120v-720h720v720H120Zm60-500h600v-160H180v160Zm220 220h160v-160H400v160Zm0 220h160v-160H400v160ZM180-400h160v-160H180v160Zm440 0h160v-160H620v160ZM180-180h160v-160H180v160Zm440 0h160v-160H620v160Z\"/>\n",
              "  </svg>\n",
              "    </button>\n",
              "\n",
              "  <style>\n",
              "    .colab-df-container {\n",
              "      display:flex;\n",
              "      gap: 12px;\n",
              "    }\n",
              "\n",
              "    .colab-df-convert {\n",
              "      background-color: #E8F0FE;\n",
              "      border: none;\n",
              "      border-radius: 50%;\n",
              "      cursor: pointer;\n",
              "      display: none;\n",
              "      fill: #1967D2;\n",
              "      height: 32px;\n",
              "      padding: 0 0 0 0;\n",
              "      width: 32px;\n",
              "    }\n",
              "\n",
              "    .colab-df-convert:hover {\n",
              "      background-color: #E2EBFA;\n",
              "      box-shadow: 0px 1px 2px rgba(60, 64, 67, 0.3), 0px 1px 3px 1px rgba(60, 64, 67, 0.15);\n",
              "      fill: #174EA6;\n",
              "    }\n",
              "\n",
              "    .colab-df-buttons div {\n",
              "      margin-bottom: 4px;\n",
              "    }\n",
              "\n",
              "    [theme=dark] .colab-df-convert {\n",
              "      background-color: #3B4455;\n",
              "      fill: #D2E3FC;\n",
              "    }\n",
              "\n",
              "    [theme=dark] .colab-df-convert:hover {\n",
              "      background-color: #434B5C;\n",
              "      box-shadow: 0px 1px 3px 1px rgba(0, 0, 0, 0.15);\n",
              "      filter: drop-shadow(0px 1px 2px rgba(0, 0, 0, 0.3));\n",
              "      fill: #FFFFFF;\n",
              "    }\n",
              "  </style>\n",
              "\n",
              "    <script>\n",
              "      const buttonEl =\n",
              "        document.querySelector('#df-04ad7c6d-1ac9-4b04-a518-dd3e910b19af button.colab-df-convert');\n",
              "      buttonEl.style.display =\n",
              "        google.colab.kernel.accessAllowed ? 'block' : 'none';\n",
              "\n",
              "      async function convertToInteractive(key) {\n",
              "        const element = document.querySelector('#df-04ad7c6d-1ac9-4b04-a518-dd3e910b19af');\n",
              "        const dataTable =\n",
              "          await google.colab.kernel.invokeFunction('convertToInteractive',\n",
              "                                                    [key], {});\n",
              "        if (!dataTable) return;\n",
              "\n",
              "        const docLinkHtml = 'Like what you see? Visit the ' +\n",
              "          '<a target=\"_blank\" href=https://colab.research.google.com/notebooks/data_table.ipynb>data table notebook</a>'\n",
              "          + ' to learn more about interactive tables.';\n",
              "        element.innerHTML = '';\n",
              "        dataTable['output_type'] = 'display_data';\n",
              "        await google.colab.output.renderOutput(dataTable, element);\n",
              "        const docLink = document.createElement('div');\n",
              "        docLink.innerHTML = docLinkHtml;\n",
              "        element.appendChild(docLink);\n",
              "      }\n",
              "    </script>\n",
              "  </div>\n",
              "\n",
              "\n",
              "<div id=\"df-11308fcb-087d-4cfe-82b4-9a1c36e8f481\">\n",
              "  <button class=\"colab-df-quickchart\" onclick=\"quickchart('df-11308fcb-087d-4cfe-82b4-9a1c36e8f481')\"\n",
              "            title=\"Suggest charts\"\n",
              "            style=\"display:none;\">\n",
              "\n",
              "<svg xmlns=\"http://www.w3.org/2000/svg\" height=\"24px\"viewBox=\"0 0 24 24\"\n",
              "     width=\"24px\">\n",
              "    <g>\n",
              "        <path d=\"M19 3H5c-1.1 0-2 .9-2 2v14c0 1.1.9 2 2 2h14c1.1 0 2-.9 2-2V5c0-1.1-.9-2-2-2zM9 17H7v-7h2v7zm4 0h-2V7h2v10zm4 0h-2v-4h2v4z\"/>\n",
              "    </g>\n",
              "</svg>\n",
              "  </button>\n",
              "\n",
              "<style>\n",
              "  .colab-df-quickchart {\n",
              "      --bg-color: #E8F0FE;\n",
              "      --fill-color: #1967D2;\n",
              "      --hover-bg-color: #E2EBFA;\n",
              "      --hover-fill-color: #174EA6;\n",
              "      --disabled-fill-color: #AAA;\n",
              "      --disabled-bg-color: #DDD;\n",
              "  }\n",
              "\n",
              "  [theme=dark] .colab-df-quickchart {\n",
              "      --bg-color: #3B4455;\n",
              "      --fill-color: #D2E3FC;\n",
              "      --hover-bg-color: #434B5C;\n",
              "      --hover-fill-color: #FFFFFF;\n",
              "      --disabled-bg-color: #3B4455;\n",
              "      --disabled-fill-color: #666;\n",
              "  }\n",
              "\n",
              "  .colab-df-quickchart {\n",
              "    background-color: var(--bg-color);\n",
              "    border: none;\n",
              "    border-radius: 50%;\n",
              "    cursor: pointer;\n",
              "    display: none;\n",
              "    fill: var(--fill-color);\n",
              "    height: 32px;\n",
              "    padding: 0;\n",
              "    width: 32px;\n",
              "  }\n",
              "\n",
              "  .colab-df-quickchart:hover {\n",
              "    background-color: var(--hover-bg-color);\n",
              "    box-shadow: 0 1px 2px rgba(60, 64, 67, 0.3), 0 1px 3px 1px rgba(60, 64, 67, 0.15);\n",
              "    fill: var(--button-hover-fill-color);\n",
              "  }\n",
              "\n",
              "  .colab-df-quickchart-complete:disabled,\n",
              "  .colab-df-quickchart-complete:disabled:hover {\n",
              "    background-color: var(--disabled-bg-color);\n",
              "    fill: var(--disabled-fill-color);\n",
              "    box-shadow: none;\n",
              "  }\n",
              "\n",
              "  .colab-df-spinner {\n",
              "    border: 2px solid var(--fill-color);\n",
              "    border-color: transparent;\n",
              "    border-bottom-color: var(--fill-color);\n",
              "    animation:\n",
              "      spin 1s steps(1) infinite;\n",
              "  }\n",
              "\n",
              "  @keyframes spin {\n",
              "    0% {\n",
              "      border-color: transparent;\n",
              "      border-bottom-color: var(--fill-color);\n",
              "      border-left-color: var(--fill-color);\n",
              "    }\n",
              "    20% {\n",
              "      border-color: transparent;\n",
              "      border-left-color: var(--fill-color);\n",
              "      border-top-color: var(--fill-color);\n",
              "    }\n",
              "    30% {\n",
              "      border-color: transparent;\n",
              "      border-left-color: var(--fill-color);\n",
              "      border-top-color: var(--fill-color);\n",
              "      border-right-color: var(--fill-color);\n",
              "    }\n",
              "    40% {\n",
              "      border-color: transparent;\n",
              "      border-right-color: var(--fill-color);\n",
              "      border-top-color: var(--fill-color);\n",
              "    }\n",
              "    60% {\n",
              "      border-color: transparent;\n",
              "      border-right-color: var(--fill-color);\n",
              "    }\n",
              "    80% {\n",
              "      border-color: transparent;\n",
              "      border-right-color: var(--fill-color);\n",
              "      border-bottom-color: var(--fill-color);\n",
              "    }\n",
              "    90% {\n",
              "      border-color: transparent;\n",
              "      border-bottom-color: var(--fill-color);\n",
              "    }\n",
              "  }\n",
              "</style>\n",
              "\n",
              "  <script>\n",
              "    async function quickchart(key) {\n",
              "      const quickchartButtonEl =\n",
              "        document.querySelector('#' + key + ' button');\n",
              "      quickchartButtonEl.disabled = true;  // To prevent multiple clicks.\n",
              "      quickchartButtonEl.classList.add('colab-df-spinner');\n",
              "      try {\n",
              "        const charts = await google.colab.kernel.invokeFunction(\n",
              "            'suggestCharts', [key], {});\n",
              "      } catch (error) {\n",
              "        console.error('Error during call to suggestCharts:', error);\n",
              "      }\n",
              "      quickchartButtonEl.classList.remove('colab-df-spinner');\n",
              "      quickchartButtonEl.classList.add('colab-df-quickchart-complete');\n",
              "    }\n",
              "    (() => {\n",
              "      let quickchartButtonEl =\n",
              "        document.querySelector('#df-11308fcb-087d-4cfe-82b4-9a1c36e8f481 button');\n",
              "      quickchartButtonEl.style.display =\n",
              "        google.colab.kernel.accessAllowed ? 'block' : 'none';\n",
              "    })();\n",
              "  </script>\n",
              "</div>\n",
              "\n",
              "    </div>\n",
              "  </div>\n"
            ],
            "text/plain": [
              "                                 formula\n",
              "0    Mo50.89 Hf36.86 Nb4.28 W4.63 Ti3.34\n",
              "1  Mo25.49 Hf39.49 Nb4.90 W11.86 Ti18.26\n",
              "2  Mo32.72 Hf11.76 Nb37.11 W17.06 Ti1.36\n",
              "3   Mo1.49 Hf16.82 Nb9.32 W61.16 Ti11.21\n",
              "4  Mo11.52 Hf36.40 Nb6.82 W17.17 Ti28.09"
            ]
          },
          "execution_count": 43,
          "metadata": {},
          "output_type": "execute_result"
        }
      ],
      "source": [
        "virtual_samples.head()"
      ]
    },
    {
      "cell_type": "code",
      "execution_count": null,
      "metadata": {
        "id": "QZwlNgc9hz5t"
      },
      "outputs": [],
      "source": [
        "virtual_samples['target'] = 0"
      ]
    },
    {
      "cell_type": "markdown",
      "metadata": {
        "id": "Eu7wV0nmk-0E"
      },
      "source": [
        "FEATURING THE TEST SAMPLES"
      ]
    },
    {
      "cell_type": "code",
      "execution_count": null,
      "metadata": {
        "colab": {
          "base_uri": "https://localhost:8080/"
        },
        "id": "ezMVgNrMh1uM",
        "outputId": "596d1ec1-fb5f-4e78-fed2-03745ccfe593"
      },
      "outputs": [
        {
          "name": "stderr",
          "output_type": "stream",
          "text": [
            "Processing Input Data: 100%|██████████| 1000/1000 [00:00<00:00, 13163.27it/s]\n"
          ]
        },
        {
          "name": "stdout",
          "output_type": "stream",
          "text": [
            "\tFeaturizing Compositions...\n"
          ]
        },
        {
          "name": "stderr",
          "output_type": "stream",
          "text": [
            "Assigning Features...: 100%|██████████| 1000/1000 [00:00<00:00, 6355.45it/s]\n"
          ]
        },
        {
          "name": "stdout",
          "output_type": "stream",
          "text": [
            "\tCreating Pandas Objects...\n"
          ]
        }
      ],
      "source": [
        "virtual_samples_features, skipped1, formula, additional_values = composition.generate_features(virtual_samples,elem_prop='f3_revised',drop_duplicates=False,extend_features=True)"
      ]
    },
    {
      "cell_type": "code",
      "execution_count": null,
      "metadata": {
        "colab": {
          "base_uri": "https://localhost:8080/",
          "height": 255
        },
        "id": "r_4ylc6KiL3s",
        "outputId": "6e405aa1-b41d-4501-b781-81fcb55ad404"
      },
      "outputs": [
        {
          "data": {
            "application/vnd.google.colaboratory.intrinsic+json": {
              "type": "dataframe",
              "variable_name": "virtual_samples_features"
            },
            "text/html": [
              "\n",
              "  <div id=\"df-16c78bf3-a6cd-4e61-bb25-7e3463f22877\" class=\"colab-df-container\">\n",
              "    <div>\n",
              "<style scoped>\n",
              "    .dataframe tbody tr th:only-of-type {\n",
              "        vertical-align: middle;\n",
              "    }\n",
              "\n",
              "    .dataframe tbody tr th {\n",
              "        vertical-align: top;\n",
              "    }\n",
              "\n",
              "    .dataframe thead th {\n",
              "        text-align: right;\n",
              "    }\n",
              "</style>\n",
              "<table border=\"1\" class=\"dataframe\">\n",
              "  <thead>\n",
              "    <tr style=\"text-align: right;\">\n",
              "      <th></th>\n",
              "      <th>avg_Atomic_Radius</th>\n",
              "      <th>avg_Pauling_Electronegativity</th>\n",
              "      <th>avg_number_of_valence_electrons</th>\n",
              "      <th>avg_Cohesive_energy_ev_atom</th>\n",
              "      <th>avg_Bulk_modulus_RT_Gpa</th>\n",
              "      <th>avg_Elastic_modulus_RT_Gpa</th>\n",
              "      <th>avg_Shear_modulus_RT_Gpa</th>\n",
              "      <th>avg_Melting_point_(K)</th>\n",
              "      <th>avg_rate_shear_mod_Mpa_perK</th>\n",
              "      <th>avg_Solid_Solubility_atpct</th>\n",
              "      <th>...</th>\n",
              "      <th>mode_Bulk_modulus_RT_Gpa</th>\n",
              "      <th>mode_Elastic_modulus_RT_Gpa</th>\n",
              "      <th>mode_Shear_modulus_RT_Gpa</th>\n",
              "      <th>mode_Melting_point_(K)</th>\n",
              "      <th>mode_rate_shear_mod_Mpa_perK</th>\n",
              "      <th>mode_Solid_Solubility_atpct</th>\n",
              "      <th>mode_lattice_constant_A</th>\n",
              "      <th>mode_BEC_percm3</th>\n",
              "      <th>mode_Av.Valence_bond_strength_ev</th>\n",
              "      <th>mode_EngelZ_e/a</th>\n",
              "    </tr>\n",
              "  </thead>\n",
              "  <tbody>\n",
              "    <tr>\n",
              "      <th>0</th>\n",
              "      <td>1.966485</td>\n",
              "      <td>1.807588</td>\n",
              "      <td>5.153200</td>\n",
              "      <td>6.742538</td>\n",
              "      <td>182.896000</td>\n",
              "      <td>223.576600</td>\n",
              "      <td>31.786300</td>\n",
              "      <td>2744.770900</td>\n",
              "      <td>-4.962877</td>\n",
              "      <td>100.0</td>\n",
              "      <td>...</td>\n",
              "      <td>230.0</td>\n",
              "      <td>329.0</td>\n",
              "      <td>20.0</td>\n",
              "      <td>2890.15</td>\n",
              "      <td>-2.977833</td>\n",
              "      <td>100.0</td>\n",
              "      <td>3.15</td>\n",
              "      <td>3.840000e-21</td>\n",
              "      <td>4.431</td>\n",
              "      <td>6.0</td>\n",
              "    </tr>\n",
              "    <tr>\n",
              "      <th>1</th>\n",
              "      <td>1.952996</td>\n",
              "      <td>1.703454</td>\n",
              "      <td>4.796000</td>\n",
              "      <td>6.593654</td>\n",
              "      <td>167.248000</td>\n",
              "      <td>189.735500</td>\n",
              "      <td>45.936000</td>\n",
              "      <td>2648.139600</td>\n",
              "      <td>-7.337468</td>\n",
              "      <td>100.0</td>\n",
              "      <td>...</td>\n",
              "      <td>110.0</td>\n",
              "      <td>78.0</td>\n",
              "      <td>30.0</td>\n",
              "      <td>2500.15</td>\n",
              "      <td>-5.443103</td>\n",
              "      <td>100.0</td>\n",
              "      <td>3.20</td>\n",
              "      <td>1.810000e-21</td>\n",
              "      <td>3.775</td>\n",
              "      <td>4.0</td>\n",
              "    </tr>\n",
              "    <tr>\n",
              "      <th>2</th>\n",
              "      <td>1.954065</td>\n",
              "      <td>1.876764</td>\n",
              "      <td>5.366563</td>\n",
              "      <td>7.381637</td>\n",
              "      <td>205.640436</td>\n",
              "      <td>227.458554</td>\n",
              "      <td>52.233577</td>\n",
              "      <td>2911.260589</td>\n",
              "      <td>-6.973646</td>\n",
              "      <td>100.0</td>\n",
              "      <td>...</td>\n",
              "      <td>170.0</td>\n",
              "      <td>105.0</td>\n",
              "      <td>38.0</td>\n",
              "      <td>2741.15</td>\n",
              "      <td>-6.080125</td>\n",
              "      <td>100.0</td>\n",
              "      <td>3.30</td>\n",
              "      <td>2.750000e-21</td>\n",
              "      <td>3.972</td>\n",
              "      <td>5.0</td>\n",
              "    </tr>\n",
              "    <tr>\n",
              "      <th>3</th>\n",
              "      <td>1.940386</td>\n",
              "      <td>2.015974</td>\n",
              "      <td>5.346200</td>\n",
              "      <td>7.877275</td>\n",
              "      <td>239.700000</td>\n",
              "      <td>292.178900</td>\n",
              "      <td>112.285600</td>\n",
              "      <td>3188.384300</td>\n",
              "      <td>-13.374757</td>\n",
              "      <td>100.0</td>\n",
              "      <td>...</td>\n",
              "      <td>310.0</td>\n",
              "      <td>411.0</td>\n",
              "      <td>161.0</td>\n",
              "      <td>3683.15</td>\n",
              "      <td>-17.283385</td>\n",
              "      <td>100.0</td>\n",
              "      <td>3.16</td>\n",
              "      <td>3.790000e-21</td>\n",
              "      <td>5.143</td>\n",
              "      <td>6.0</td>\n",
              "    </tr>\n",
              "    <tr>\n",
              "      <th>4</th>\n",
              "      <td>1.936801</td>\n",
              "      <td>1.668950</td>\n",
              "      <td>4.642000</td>\n",
              "      <td>6.536593</td>\n",
              "      <td>162.256000</td>\n",
              "      <td>176.606900</td>\n",
              "      <td>55.818900</td>\n",
              "      <td>2605.365000</td>\n",
              "      <td>-8.908144</td>\n",
              "      <td>100.0</td>\n",
              "      <td>...</td>\n",
              "      <td>110.0</td>\n",
              "      <td>78.0</td>\n",
              "      <td>30.0</td>\n",
              "      <td>2500.15</td>\n",
              "      <td>-5.443103</td>\n",
              "      <td>100.0</td>\n",
              "      <td>3.20</td>\n",
              "      <td>1.810000e-21</td>\n",
              "      <td>3.775</td>\n",
              "      <td>4.0</td>\n",
              "    </tr>\n",
              "  </tbody>\n",
              "</table>\n",
              "<p>5 rows × 84 columns</p>\n",
              "</div>\n",
              "    <div class=\"colab-df-buttons\">\n",
              "\n",
              "  <div class=\"colab-df-container\">\n",
              "    <button class=\"colab-df-convert\" onclick=\"convertToInteractive('df-16c78bf3-a6cd-4e61-bb25-7e3463f22877')\"\n",
              "            title=\"Convert this dataframe to an interactive table.\"\n",
              "            style=\"display:none;\">\n",
              "\n",
              "  <svg xmlns=\"http://www.w3.org/2000/svg\" height=\"24px\" viewBox=\"0 -960 960 960\">\n",
              "    <path d=\"M120-120v-720h720v720H120Zm60-500h600v-160H180v160Zm220 220h160v-160H400v160Zm0 220h160v-160H400v160ZM180-400h160v-160H180v160Zm440 0h160v-160H620v160ZM180-180h160v-160H180v160Zm440 0h160v-160H620v160Z\"/>\n",
              "  </svg>\n",
              "    </button>\n",
              "\n",
              "  <style>\n",
              "    .colab-df-container {\n",
              "      display:flex;\n",
              "      gap: 12px;\n",
              "    }\n",
              "\n",
              "    .colab-df-convert {\n",
              "      background-color: #E8F0FE;\n",
              "      border: none;\n",
              "      border-radius: 50%;\n",
              "      cursor: pointer;\n",
              "      display: none;\n",
              "      fill: #1967D2;\n",
              "      height: 32px;\n",
              "      padding: 0 0 0 0;\n",
              "      width: 32px;\n",
              "    }\n",
              "\n",
              "    .colab-df-convert:hover {\n",
              "      background-color: #E2EBFA;\n",
              "      box-shadow: 0px 1px 2px rgba(60, 64, 67, 0.3), 0px 1px 3px 1px rgba(60, 64, 67, 0.15);\n",
              "      fill: #174EA6;\n",
              "    }\n",
              "\n",
              "    .colab-df-buttons div {\n",
              "      margin-bottom: 4px;\n",
              "    }\n",
              "\n",
              "    [theme=dark] .colab-df-convert {\n",
              "      background-color: #3B4455;\n",
              "      fill: #D2E3FC;\n",
              "    }\n",
              "\n",
              "    [theme=dark] .colab-df-convert:hover {\n",
              "      background-color: #434B5C;\n",
              "      box-shadow: 0px 1px 3px 1px rgba(0, 0, 0, 0.15);\n",
              "      filter: drop-shadow(0px 1px 2px rgba(0, 0, 0, 0.3));\n",
              "      fill: #FFFFFF;\n",
              "    }\n",
              "  </style>\n",
              "\n",
              "    <script>\n",
              "      const buttonEl =\n",
              "        document.querySelector('#df-16c78bf3-a6cd-4e61-bb25-7e3463f22877 button.colab-df-convert');\n",
              "      buttonEl.style.display =\n",
              "        google.colab.kernel.accessAllowed ? 'block' : 'none';\n",
              "\n",
              "      async function convertToInteractive(key) {\n",
              "        const element = document.querySelector('#df-16c78bf3-a6cd-4e61-bb25-7e3463f22877');\n",
              "        const dataTable =\n",
              "          await google.colab.kernel.invokeFunction('convertToInteractive',\n",
              "                                                    [key], {});\n",
              "        if (!dataTable) return;\n",
              "\n",
              "        const docLinkHtml = 'Like what you see? Visit the ' +\n",
              "          '<a target=\"_blank\" href=https://colab.research.google.com/notebooks/data_table.ipynb>data table notebook</a>'\n",
              "          + ' to learn more about interactive tables.';\n",
              "        element.innerHTML = '';\n",
              "        dataTable['output_type'] = 'display_data';\n",
              "        await google.colab.output.renderOutput(dataTable, element);\n",
              "        const docLink = document.createElement('div');\n",
              "        docLink.innerHTML = docLinkHtml;\n",
              "        element.appendChild(docLink);\n",
              "      }\n",
              "    </script>\n",
              "  </div>\n",
              "\n",
              "\n",
              "<div id=\"df-e9beab8b-1ba0-4260-b8bb-8b9853358aeb\">\n",
              "  <button class=\"colab-df-quickchart\" onclick=\"quickchart('df-e9beab8b-1ba0-4260-b8bb-8b9853358aeb')\"\n",
              "            title=\"Suggest charts\"\n",
              "            style=\"display:none;\">\n",
              "\n",
              "<svg xmlns=\"http://www.w3.org/2000/svg\" height=\"24px\"viewBox=\"0 0 24 24\"\n",
              "     width=\"24px\">\n",
              "    <g>\n",
              "        <path d=\"M19 3H5c-1.1 0-2 .9-2 2v14c0 1.1.9 2 2 2h14c1.1 0 2-.9 2-2V5c0-1.1-.9-2-2-2zM9 17H7v-7h2v7zm4 0h-2V7h2v10zm4 0h-2v-4h2v4z\"/>\n",
              "    </g>\n",
              "</svg>\n",
              "  </button>\n",
              "\n",
              "<style>\n",
              "  .colab-df-quickchart {\n",
              "      --bg-color: #E8F0FE;\n",
              "      --fill-color: #1967D2;\n",
              "      --hover-bg-color: #E2EBFA;\n",
              "      --hover-fill-color: #174EA6;\n",
              "      --disabled-fill-color: #AAA;\n",
              "      --disabled-bg-color: #DDD;\n",
              "  }\n",
              "\n",
              "  [theme=dark] .colab-df-quickchart {\n",
              "      --bg-color: #3B4455;\n",
              "      --fill-color: #D2E3FC;\n",
              "      --hover-bg-color: #434B5C;\n",
              "      --hover-fill-color: #FFFFFF;\n",
              "      --disabled-bg-color: #3B4455;\n",
              "      --disabled-fill-color: #666;\n",
              "  }\n",
              "\n",
              "  .colab-df-quickchart {\n",
              "    background-color: var(--bg-color);\n",
              "    border: none;\n",
              "    border-radius: 50%;\n",
              "    cursor: pointer;\n",
              "    display: none;\n",
              "    fill: var(--fill-color);\n",
              "    height: 32px;\n",
              "    padding: 0;\n",
              "    width: 32px;\n",
              "  }\n",
              "\n",
              "  .colab-df-quickchart:hover {\n",
              "    background-color: var(--hover-bg-color);\n",
              "    box-shadow: 0 1px 2px rgba(60, 64, 67, 0.3), 0 1px 3px 1px rgba(60, 64, 67, 0.15);\n",
              "    fill: var(--button-hover-fill-color);\n",
              "  }\n",
              "\n",
              "  .colab-df-quickchart-complete:disabled,\n",
              "  .colab-df-quickchart-complete:disabled:hover {\n",
              "    background-color: var(--disabled-bg-color);\n",
              "    fill: var(--disabled-fill-color);\n",
              "    box-shadow: none;\n",
              "  }\n",
              "\n",
              "  .colab-df-spinner {\n",
              "    border: 2px solid var(--fill-color);\n",
              "    border-color: transparent;\n",
              "    border-bottom-color: var(--fill-color);\n",
              "    animation:\n",
              "      spin 1s steps(1) infinite;\n",
              "  }\n",
              "\n",
              "  @keyframes spin {\n",
              "    0% {\n",
              "      border-color: transparent;\n",
              "      border-bottom-color: var(--fill-color);\n",
              "      border-left-color: var(--fill-color);\n",
              "    }\n",
              "    20% {\n",
              "      border-color: transparent;\n",
              "      border-left-color: var(--fill-color);\n",
              "      border-top-color: var(--fill-color);\n",
              "    }\n",
              "    30% {\n",
              "      border-color: transparent;\n",
              "      border-left-color: var(--fill-color);\n",
              "      border-top-color: var(--fill-color);\n",
              "      border-right-color: var(--fill-color);\n",
              "    }\n",
              "    40% {\n",
              "      border-color: transparent;\n",
              "      border-right-color: var(--fill-color);\n",
              "      border-top-color: var(--fill-color);\n",
              "    }\n",
              "    60% {\n",
              "      border-color: transparent;\n",
              "      border-right-color: var(--fill-color);\n",
              "    }\n",
              "    80% {\n",
              "      border-color: transparent;\n",
              "      border-right-color: var(--fill-color);\n",
              "      border-bottom-color: var(--fill-color);\n",
              "    }\n",
              "    90% {\n",
              "      border-color: transparent;\n",
              "      border-bottom-color: var(--fill-color);\n",
              "    }\n",
              "  }\n",
              "</style>\n",
              "\n",
              "  <script>\n",
              "    async function quickchart(key) {\n",
              "      const quickchartButtonEl =\n",
              "        document.querySelector('#' + key + ' button');\n",
              "      quickchartButtonEl.disabled = true;  // To prevent multiple clicks.\n",
              "      quickchartButtonEl.classList.add('colab-df-spinner');\n",
              "      try {\n",
              "        const charts = await google.colab.kernel.invokeFunction(\n",
              "            'suggestCharts', [key], {});\n",
              "      } catch (error) {\n",
              "        console.error('Error during call to suggestCharts:', error);\n",
              "      }\n",
              "      quickchartButtonEl.classList.remove('colab-df-spinner');\n",
              "      quickchartButtonEl.classList.add('colab-df-quickchart-complete');\n",
              "    }\n",
              "    (() => {\n",
              "      let quickchartButtonEl =\n",
              "        document.querySelector('#df-e9beab8b-1ba0-4260-b8bb-8b9853358aeb button');\n",
              "      quickchartButtonEl.style.display =\n",
              "        google.colab.kernel.accessAllowed ? 'block' : 'none';\n",
              "    })();\n",
              "  </script>\n",
              "</div>\n",
              "\n",
              "    </div>\n",
              "  </div>\n"
            ],
            "text/plain": [
              "   avg_Atomic_Radius  avg_Pauling_Electronegativity  \\\n",
              "0           1.966485                       1.807588   \n",
              "1           1.952996                       1.703454   \n",
              "2           1.954065                       1.876764   \n",
              "3           1.940386                       2.015974   \n",
              "4           1.936801                       1.668950   \n",
              "\n",
              "   avg_number_of_valence_electrons  avg_Cohesive_energy_ev_atom  \\\n",
              "0                         5.153200                     6.742538   \n",
              "1                         4.796000                     6.593654   \n",
              "2                         5.366563                     7.381637   \n",
              "3                         5.346200                     7.877275   \n",
              "4                         4.642000                     6.536593   \n",
              "\n",
              "   avg_Bulk_modulus_RT_Gpa  avg_Elastic_modulus_RT_Gpa  \\\n",
              "0               182.896000                  223.576600   \n",
              "1               167.248000                  189.735500   \n",
              "2               205.640436                  227.458554   \n",
              "3               239.700000                  292.178900   \n",
              "4               162.256000                  176.606900   \n",
              "\n",
              "   avg_Shear_modulus_RT_Gpa  avg_Melting_point_(K)  \\\n",
              "0                 31.786300            2744.770900   \n",
              "1                 45.936000            2648.139600   \n",
              "2                 52.233577            2911.260589   \n",
              "3                112.285600            3188.384300   \n",
              "4                 55.818900            2605.365000   \n",
              "\n",
              "   avg_rate_shear_mod_Mpa_perK  avg_Solid_Solubility_atpct  ...  \\\n",
              "0                    -4.962877                       100.0  ...   \n",
              "1                    -7.337468                       100.0  ...   \n",
              "2                    -6.973646                       100.0  ...   \n",
              "3                   -13.374757                       100.0  ...   \n",
              "4                    -8.908144                       100.0  ...   \n",
              "\n",
              "   mode_Bulk_modulus_RT_Gpa  mode_Elastic_modulus_RT_Gpa  \\\n",
              "0                     230.0                        329.0   \n",
              "1                     110.0                         78.0   \n",
              "2                     170.0                        105.0   \n",
              "3                     310.0                        411.0   \n",
              "4                     110.0                         78.0   \n",
              "\n",
              "   mode_Shear_modulus_RT_Gpa  mode_Melting_point_(K)  \\\n",
              "0                       20.0                 2890.15   \n",
              "1                       30.0                 2500.15   \n",
              "2                       38.0                 2741.15   \n",
              "3                      161.0                 3683.15   \n",
              "4                       30.0                 2500.15   \n",
              "\n",
              "   mode_rate_shear_mod_Mpa_perK  mode_Solid_Solubility_atpct  \\\n",
              "0                     -2.977833                        100.0   \n",
              "1                     -5.443103                        100.0   \n",
              "2                     -6.080125                        100.0   \n",
              "3                    -17.283385                        100.0   \n",
              "4                     -5.443103                        100.0   \n",
              "\n",
              "   mode_lattice_constant_A  mode_BEC_percm3  mode_Av.Valence_bond_strength_ev  \\\n",
              "0                     3.15     3.840000e-21                             4.431   \n",
              "1                     3.20     1.810000e-21                             3.775   \n",
              "2                     3.30     2.750000e-21                             3.972   \n",
              "3                     3.16     3.790000e-21                             5.143   \n",
              "4                     3.20     1.810000e-21                             3.775   \n",
              "\n",
              "   mode_EngelZ_e/a  \n",
              "0              6.0  \n",
              "1              4.0  \n",
              "2              5.0  \n",
              "3              6.0  \n",
              "4              4.0  \n",
              "\n",
              "[5 rows x 84 columns]"
            ]
          },
          "execution_count": 46,
          "metadata": {},
          "output_type": "execute_result"
        }
      ],
      "source": [
        "virtual_samples_features.head()"
      ]
    },
    {
      "cell_type": "code",
      "execution_count": null,
      "metadata": {
        "colab": {
          "base_uri": "https://localhost:8080/"
        },
        "id": "uxBMZWNSzW8P",
        "outputId": "19fd8809-767f-49cd-83b2-a69e9f1c19b8"
      },
      "outputs": [
        {
          "data": {
            "text/plain": [
              "Index(['avg_Atomic_Radius', 'avg_Pauling_Electronegativity',\n",
              "       'avg_number_of_valence_electrons', 'avg_Cohesive_energy_ev_atom',\n",
              "       'avg_Bulk_modulus_RT_Gpa', 'avg_Elastic_modulus_RT_Gpa',\n",
              "       'avg_Shear_modulus_RT_Gpa', 'avg_Melting_point_(K)',\n",
              "       'avg_rate_shear_mod_Mpa_perK', 'avg_Solid_Solubility_atpct',\n",
              "       'avg_lattice_constant_A', 'avg_BEC_percm3',\n",
              "       'avg_Av.Valence_bond_strength_ev', 'avg_EngelZ_e/a',\n",
              "       'dev_Atomic_Radius', 'dev_Pauling_Electronegativity',\n",
              "       'dev_number_of_valence_electrons', 'dev_Cohesive_energy_ev_atom',\n",
              "       'dev_Bulk_modulus_RT_Gpa', 'dev_Elastic_modulus_RT_Gpa',\n",
              "       'dev_Shear_modulus_RT_Gpa', 'dev_Melting_point_(K)',\n",
              "       'dev_rate_shear_mod_Mpa_perK', 'dev_Solid_Solubility_atpct',\n",
              "       'dev_lattice_constant_A', 'dev_BEC_percm3',\n",
              "       'dev_Av.Valence_bond_strength_ev', 'dev_EngelZ_e/a',\n",
              "       'range_Atomic_Radius', 'range_Pauling_Electronegativity',\n",
              "       'range_number_of_valence_electrons', 'range_Cohesive_energy_ev_atom',\n",
              "       'range_Bulk_modulus_RT_Gpa', 'range_Elastic_modulus_RT_Gpa',\n",
              "       'range_Shear_modulus_RT_Gpa', 'range_Melting_point_(K)',\n",
              "       'range_rate_shear_mod_Mpa_perK', 'range_Solid_Solubility_atpct',\n",
              "       'range_lattice_constant_A', 'range_BEC_percm3',\n",
              "       'range_Av.Valence_bond_strength_ev', 'range_EngelZ_e/a',\n",
              "       'max_Atomic_Radius', 'max_Pauling_Electronegativity',\n",
              "       'max_number_of_valence_electrons', 'max_Cohesive_energy_ev_atom',\n",
              "       'max_Bulk_modulus_RT_Gpa', 'max_Elastic_modulus_RT_Gpa',\n",
              "       'max_Shear_modulus_RT_Gpa', 'max_Melting_point_(K)',\n",
              "       'max_rate_shear_mod_Mpa_perK', 'max_Solid_Solubility_atpct',\n",
              "       'max_lattice_constant_A', 'max_BEC_percm3',\n",
              "       'max_Av.Valence_bond_strength_ev', 'max_EngelZ_e/a',\n",
              "       'min_Atomic_Radius', 'min_Pauling_Electronegativity',\n",
              "       'min_number_of_valence_electrons', 'min_Cohesive_energy_ev_atom',\n",
              "       'min_Bulk_modulus_RT_Gpa', 'min_Elastic_modulus_RT_Gpa',\n",
              "       'min_Shear_modulus_RT_Gpa', 'min_Melting_point_(K)',\n",
              "       'min_rate_shear_mod_Mpa_perK', 'min_Solid_Solubility_atpct',\n",
              "       'min_lattice_constant_A', 'min_BEC_percm3',\n",
              "       'min_Av.Valence_bond_strength_ev', 'min_EngelZ_e/a',\n",
              "       'mode_Atomic_Radius', 'mode_Pauling_Electronegativity',\n",
              "       'mode_number_of_valence_electrons', 'mode_Cohesive_energy_ev_atom',\n",
              "       'mode_Bulk_modulus_RT_Gpa', 'mode_Elastic_modulus_RT_Gpa',\n",
              "       'mode_Shear_modulus_RT_Gpa', 'mode_Melting_point_(K)',\n",
              "       'mode_rate_shear_mod_Mpa_perK', 'mode_Solid_Solubility_atpct',\n",
              "       'mode_lattice_constant_A', 'mode_BEC_percm3',\n",
              "       'mode_Av.Valence_bond_strength_ev', 'mode_EngelZ_e/a'],\n",
              "      dtype='object')"
            ]
          },
          "execution_count": 47,
          "metadata": {},
          "output_type": "execute_result"
        }
      ],
      "source": [
        "virtual_samples_features.columns"
      ]
    },
    {
      "cell_type": "code",
      "execution_count": null,
      "metadata": {
        "id": "lirPB4YUiUtU"
      },
      "outputs": [],
      "source": [
        "virtual_samples_scaled = scaler.fit_transform(virtual_samples_features)"
      ]
    },
    {
      "cell_type": "code",
      "execution_count": null,
      "metadata": {
        "id": "cY3wB7oUinpy"
      },
      "outputs": [],
      "source": [
        "predicted_properties = gbr_model1.predict(virtual_samples_scaled)"
      ]
    },
    {
      "cell_type": "code",
      "execution_count": null,
      "metadata": {
        "id": "R3gPPITYSBiw"
      },
      "outputs": [],
      "source": [
        "def compute_property(predictions):\n",
        "    return np.mean(predictions)"
      ]
    },
    {
      "cell_type": "code",
      "execution_count": null,
      "metadata": {
        "id": "oCjjSqW7iqWa"
      },
      "outputs": [],
      "source": [
        "property_value = compute_property(predicted_properties)"
      ]
    },
    {
      "cell_type": "markdown",
      "metadata": {
        "id": "uJEu-YFjqpde"
      },
      "source": [
        "**BOOTSTRAP ESTIMATOR**"
      ]
    },
    {
      "cell_type": "code",
      "execution_count": null,
      "metadata": {
        "id": "5eu8rZIVhXa5"
      },
      "outputs": [],
      "source": [
        "def bootstrap_estimator(model1, model2, X_train, y_train, ya_train_all, X_test, n_iter=1000):\n",
        "\n",
        "    '''\n",
        "    Function to estimate the mean and standard deviation\n",
        "\n",
        "    paramenters:\n",
        "    model = best model hyperparameters\n",
        "    X_train = training features\n",
        "    y_tain = training target\n",
        "    X_test = test features\n",
        "    n_iter = no of bootstrap sample\n",
        "    seed = 20 is fixed to have repeatability in boot straping\n",
        "\n",
        "    return:\n",
        "    returns mean and standard deviation\n",
        "    '''\n",
        "\n",
        "    '''Changed to accomodate two models at same time'''\n",
        "\n",
        "\n",
        "    bootstrap_preds1 = np.zeros([len(X_test), n_iter])\n",
        "    bootstrap_preds2 = np.zeros([len(X_test), n_iter])\n",
        "\n",
        "    index = np.arange(X_train.shape[0])\n",
        "    np.random.seed(32)\n",
        "    for i in range(n_iter):\n",
        "        index_sampled = np.random.choice(index, size=X_train.shape[0], replace=True)\n",
        "\n",
        "        X_train_sample = pd.DataFrame(X_train).iloc[index_sampled.tolist(),:]\n",
        "        y_train_sample = y_train.iloc[index_sampled] if isinstance(y_train, pd.Series) else y_train[index_sampled]\n",
        "        ya_train_sample = ya_train_all.iloc[index_sampled] if isinstance(ya_train_all, pd.Series) else ya_train_all[index_sampled]\n",
        "\n",
        "        model1.fit(X_train_sample, y_train_sample)\n",
        "        model2.fit(X_train_sample, ya_train_sample)\n",
        "\n",
        "        pred_i1 = model1.predict(X_test)\n",
        "        pred_i2 = model2.predict(X_test)\n",
        "\n",
        "        bootstrap_preds1[:,i] = pred_i1\n",
        "        bootstrap_preds2[:,i] = pred_i2\n",
        "    return(bootstrap_preds1.mean(axis=1),bootstrap_preds1.std(axis=1), bootstrap_preds2.mean(axis=1),bootstrap_preds2.std(axis=1))\n"
      ]
    },
    {
      "cell_type": "markdown",
      "metadata": {
        "id": "P107SWhprNaY"
      },
      "source": [
        "**DEFINING FUCNTION FOR EI CALCULATION**"
      ]
    },
    {
      "cell_type": "code",
      "execution_count": null,
      "metadata": {
        "id": "OelZOV-yhhyp"
      },
      "outputs": [],
      "source": [
        "def Expected_Improvement(X_test, X_train_all, y_train_all, ya_train_all, model1, model2, xi=0.01):\n",
        "\n",
        "    '''\n",
        "     Calcualting the Expected Improvement\n",
        "     More information : http://krasserm.github.io/2018/03/21/bayesian-optimization/\n",
        "     parameters: mean, std, y_train, xi\n",
        "     return :\n",
        "     Expected improvement value\n",
        "\n",
        "    '''\n",
        "\n",
        "    '''Changed to accommodate two models at same time'''\n",
        "\n",
        "    mu_x1, sigma_x1, mu_x2,sigma_x2 = bootstrap_estimator(model1, model2, X_train_all, y_train_all, ya_train_all, X_test, n_iter=1000)\n",
        "    mu_max1 = np.max(y_train_all)\n",
        "    mu_max2 = np.max(ya_train_all)\n",
        "\n",
        "    diff1 = (mu_x1-mu_max1-xi)\n",
        "    z1 = diff1/sigma_x1\n",
        "    ei1 = diff1*norm.cdf(z1)+sigma_x1*norm.pdf(z1)\n",
        "    ei1[sigma_x1 == 0.0] = 0.\n",
        "    diff2 = (mu_x2-mu_max2-xi)\n",
        "    z2 = diff2/sigma_x2\n",
        "    ei2 = diff2*norm.cdf(z2)+sigma_x2*norm.pdf(z2)\n",
        "    ei2[sigma_x2 == 0.0] = 0.\n",
        "    return(ei1, ei2, mu_x1, mu_x2, sigma_x1, sigma_x2)"
      ]
    },
    {
      "cell_type": "markdown",
      "metadata": {
        "id": "ukEYcP5MsdfX"
      },
      "source": [
        "**EI VALUE CALCULATION**"
      ]
    },
    {
      "cell_type": "code",
      "execution_count": null,
      "metadata": {
        "id": "zJko5kkDk1S-"
      },
      "outputs": [],
      "source": [
        "ei, ei1, predicted_property, temp_predicted, std, std1 = Expected_Improvement(virtual_samples_scaled, X1_train, y1_train, y1a_train, gbr_model1, gbr_model1a, xi=0.01)"
      ]
    },
    {
      "cell_type": "markdown",
      "metadata": {
        "id": "ni_KrgoEs1CC"
      },
      "source": [
        "**PRINTING THE SORTED EI VALUES**"
      ]
    },
    {
      "cell_type": "code",
      "execution_count": null,
      "metadata": {
        "id": "uQ7kgrBtUqjq"
      },
      "outputs": [],
      "source": [
        "ei"
      ]
    },
    {
      "cell_type": "code",
      "execution_count": null,
      "metadata": {
        "id": "ozUo_Ny6i5fl"
      },
      "outputs": [],
      "source": [
        "best_sample_index = np.argmax(ei)\n",
        "best_virtual_sample = virtual_samples.iloc[best_sample_index]\n",
        "\n",
        "print(\"Best virtual sample based on EI:\")\n",
        "print(best_virtual_sample)"
      ]
    },
    {
      "cell_type": "code",
      "execution_count": null,
      "metadata": {
        "id": "qVY6s1Gmjwx1"
      },
      "outputs": [],
      "source": [
        "ei1"
      ]
    },
    {
      "cell_type": "code",
      "execution_count": null,
      "metadata": {
        "id": "3xuPKtwzj1L0"
      },
      "outputs": [],
      "source": [
        "best_sample_index1 = np.argmax(ei1)\n",
        "best_virtual_sample1 = virtual_samples.iloc[best_sample_index1]\n",
        "\n",
        "print(\"Best virtual sample based on EI:\")\n",
        "print(best_virtual_sample1)"
      ]
    },
    {
      "cell_type": "code",
      "execution_count": null,
      "metadata": {
        "id": "eRyKRvMNrJbu"
      },
      "outputs": [],
      "source": [
        "results_df = pd.DataFrame({\n",
        "    'virtual_sample': virtual_samples['formula'],\n",
        "    'predicted_property': predicted_property,\n",
        "    'ei': ei,\n",
        "    'std': std\n",
        "})"
      ]
    },
    {
      "cell_type": "code",
      "execution_count": null,
      "metadata": {
        "id": "OqotcIGrsdAl"
      },
      "outputs": [],
      "source": [
        "results_df1 = pd.DataFrame({\n",
        "    'virtual_sample': virtual_samples['formula'],\n",
        "    'predicted_property': temp_predicted,\n",
        "    'ei': ei1,\n",
        "    'std': std1\n",
        "})"
      ]
    },
    {
      "cell_type": "code",
      "execution_count": null,
      "metadata": {
        "id": "QpYkB8uetHIg"
      },
      "outputs": [],
      "source": [
        "results_df = results_df.sort_values(by='ei', ascending=False)"
      ]
    },
    {
      "cell_type": "code",
      "execution_count": null,
      "metadata": {
        "id": "J4OuJ3k9tHa-"
      },
      "outputs": [],
      "source": [
        "results_df1 = results_df1.sort_values(by='ei', ascending=False)"
      ]
    },
    {
      "cell_type": "code",
      "execution_count": null,
      "metadata": {
        "id": "eWdcsK-WtPju"
      },
      "outputs": [],
      "source": [
        "print(\"Top 5 virtual samples of hardness based on EI:\")\n",
        "print(results_df.head())"
      ]
    },
    {
      "cell_type": "code",
      "execution_count": null,
      "metadata": {
        "id": "HKKaqBB8tP2u"
      },
      "outputs": [],
      "source": [
        "print(\"Top 5 virtual samples of Temperature based on EI:\")\n",
        "print(results_df1.head())"
      ]
    },
    {
      "cell_type": "code",
      "execution_count": null,
      "metadata": {
        "id": "LYHGqrAazYV6"
      },
      "outputs": [],
      "source": [
        "plt.figure(figsize=(10, 6))\n",
        "scatter = plt.scatter(results_df['ei'], results_df['predicted_property'], c=results_df['std'], cmap='viridis', s=100, alpha=0.7)\n",
        "\n",
        "# Add a color bar\n",
        "cbar = plt.colorbar(scatter)\n",
        "cbar.set_label('Standard Deviation')\n",
        "\n",
        "# Add titles and labels\n",
        "plt.title('Expected Improvement vs. Predicted Property - Hardness')\n",
        "plt.xlabel('Expected Improvement (EI)')\n",
        "plt.ylabel('Predicted Property')\n",
        "\n",
        "# Show the plot\n",
        "plt.grid(True)\n",
        "plt.show()"
      ]
    },
    {
      "cell_type": "code",
      "execution_count": null,
      "metadata": {
        "id": "jU-r9MMO1dcE"
      },
      "outputs": [],
      "source": [
        "plt.figure(figsize=(10, 6))\n",
        "scatter = plt.scatter(results_df1['ei'], results_df1['predicted_property'], c=results_df1['std'], cmap='viridis', s=100, alpha=0.7)\n",
        "\n",
        "# Add a color bar\n",
        "cbar = plt.colorbar(scatter)\n",
        "cbar.set_label('Standard Deviation')\n",
        "\n",
        "# Add titles and labels\n",
        "plt.title('Expected Improvement vs. Predicted Property - Temperature')\n",
        "plt.xlabel('Expected Improvement (EI)')\n",
        "plt.ylabel('Predicted Property')\n",
        "\n",
        "# Show the plot\n",
        "plt.grid(True)\n",
        "plt.show()"
      ]
    },
    {
      "cell_type": "code",
      "execution_count": null,
      "metadata": {
        "id": "y1BR24MK_IrP"
      },
      "outputs": [],
      "source": [
        "# Create the scatter plot with error bars\n",
        "plt.figure(figsize=(10, 6))\n",
        "plt.errorbar(results_df['ei'], results_df['predicted_property'], yerr=results_df['std'], fmt='o', ecolor='r', capsize=5, markersize=7, label='Data Points')\n",
        "\n",
        "# Add titles and labels\n",
        "plt.title('Expected Improvement vs. Predicted Property with Error Bars - Hardness')\n",
        "plt.xlabel('Expected Improvement (EI)')\n",
        "plt.ylabel('Predicted Property')\n",
        "\n",
        "# Show the legend\n",
        "plt.legend()\n",
        "\n",
        "# Show the plot\n",
        "plt.grid(True)\n",
        "plt.show()"
      ]
    },
    {
      "cell_type": "code",
      "execution_count": null,
      "metadata": {
        "id": "sFwFvyTr_X8j"
      },
      "outputs": [],
      "source": [
        "# Create the scatter plot with error bars\n",
        "plt.figure(figsize=(10, 6))\n",
        "plt.errorbar(results_df1['ei'], results_df1['predicted_property'], yerr=results_df1['std'], fmt='o', ecolor='r', capsize=5, markersize=7, label='Data Points')\n",
        "\n",
        "# Add titles and labels\n",
        "plt.title('Expected Improvement vs. Predicted Property with Error Bars - Temperature')\n",
        "plt.xlabel('Expected Improvement (EI)')\n",
        "plt.ylabel('Predicted Property')\n",
        "\n",
        "# Show the legend\n",
        "plt.legend()\n",
        "\n",
        "# Show the plot\n",
        "plt.grid(True)\n",
        "plt.show()"
      ]
    },
    {
      "cell_type": "code",
      "execution_count": null,
      "metadata": {
        "id": "q7Fu_jzM2g5Q"
      },
      "outputs": [],
      "source": [
        "!pip install shap"
      ]
    },
    {
      "cell_type": "code",
      "execution_count": null,
      "metadata": {
        "id": "GKa8YJoN6Eho"
      },
      "outputs": [],
      "source": [
        "import shap"
      ]
    },
    {
      "cell_type": "code",
      "execution_count": null,
      "metadata": {
        "id": "vp42748S52xT"
      },
      "outputs": [],
      "source": [
        "explainer = shap.Explainer(gbr_model1, X1_train)\n",
        "\n",
        "# Calculate SHAP values for the virtual samples\n",
        "shap_values = explainer(virtual_samples_scaled)\n",
        "features_list = virtual_samples_features.columns\n"
      ]
    },
    {
      "cell_type": "code",
      "execution_count": null,
      "metadata": {
        "id": "veVsbv587YZY"
      },
      "outputs": [],
      "source": [
        "# Dependence plot for a specific feature (e.g., the first feature)\n",
        "shap.summary_plot(shap_values.values, virtual_samples_scaled)"
      ]
    },
    {
      "cell_type": "code",
      "execution_count": null,
      "metadata": {
        "id": "bDteYumvmCS1"
      },
      "outputs": [],
      "source": [
        "shap.waterfall_plot(shap.Explanation(values=shap_values[0], base_values=explainer.expected_value, data=pd.DataFrame(virtual_samples_scaled).iloc[0]))"
      ]
    },
    {
      "cell_type": "code",
      "execution_count": null,
      "metadata": {
        "id": "tf0D-6q7nLUE"
      },
      "outputs": [],
      "source": [
        "shap.summary_plot(shap_values, virtual_samples_scaled, plot_type=\"bar\")"
      ]
    },
    {
      "cell_type": "code",
      "execution_count": null,
      "metadata": {
        "id": "Aet9o3Ve0Mgm"
      },
      "outputs": [],
      "source": [
        "print(features_list[29])\n",
        "print(features_list[27])\n",
        "print(features_list[1])\n",
        "print(features_list[25])\n",
        "print(features_list[16])\n",
        "print(features_list[12])\n",
        "print(features_list[19])\n",
        "print(features_list[4])\n",
        "print(features_list[3])"
      ]
    },
    {
      "cell_type": "markdown",
      "metadata": {
        "id": "0O65-mC-WOe7"
      },
      "source": [
        "# Trend of temperatur and hardness with composition of one element at a time"
      ]
    },
    {
      "cell_type": "markdown",
      "metadata": {
        "id": "dXdl-agiue6O"
      },
      "source": [
        "**Trend of graph when varying Molybdenum(Mo), keeping other compositions (Hf1 Nb1 Ti1 W1) constant**"
      ]
    },
    {
      "cell_type": "code",
      "execution_count": null,
      "metadata": {
        "id": "0Pa38tJBW5ad"
      },
      "outputs": [],
      "source": [
        "Mo_test = pd.DataFrame({\"formula\":[],\"target\":[]})\n",
        "for i in range(50):\n",
        "    Mo_test.loc[len(Mo_test)] = [(\"Mo\"+str(i*0.5+0.5)+\" Hf1 Nb1 Ti1 W1\"), 0]\n",
        "Mo_test_comp = composition.generate_features(Mo_test,elem_prop='f3_revised',drop_duplicates=False,extend_features=True)[0]\n",
        "Mo_test_scaled = scaler.fit_transform(Mo_test_comp)\n",
        "Mo_hard_pred = gbr_model1.predict(Mo_test_scaled)\n",
        "Mo_temperature_pred = gbr_model1a.predict(Mo_test_scaled)"
      ]
    },
    {
      "cell_type": "code",
      "execution_count": null,
      "metadata": {
        "id": "NFjdTjqkYHeu"
      },
      "outputs": [],
      "source": [
        "plt.figure(figsize=(10, 6))\n",
        "\n",
        "plt.scatter(x=range(1,51), y=Mo_hard_pred)\n",
        "plt.xlabel('Composition')\n",
        "plt.ylabel('Predicted Hardness')\n",
        "plt.title('Hardness vs. Composition molybdenum (Mo)')\n",
        "plt.grid(True)\n",
        "plt.show()"
      ]
    },
    {
      "cell_type": "code",
      "execution_count": null,
      "metadata": {
        "id": "6IHAV6SWc4TF"
      },
      "outputs": [],
      "source": [
        "plt.figure(figsize=(10, 6))\n",
        "\n",
        "plt.scatter(x=range(1,51), y=Mo_temperature_pred)\n",
        "plt.xlabel('Composition')\n",
        "plt.ylabel('Predicted Temperature')\n",
        "plt.title('Temperature vs. Composition molybdenum (Mo)')\n",
        "plt.grid(True)\n",
        "plt.show()"
      ]
    },
    {
      "cell_type": "markdown",
      "metadata": {
        "id": "HEfidKwB6ZLF"
      },
      "source": [
        "**Trend of graph when varying Hafnium(Hf), keeping other compositions (Mo25 Nb1 Ti1 W1) constant**"
      ]
    },
    {
      "cell_type": "code",
      "execution_count": null,
      "metadata": {
        "id": "G7VoE3H16WDN"
      },
      "outputs": [],
      "source": [
        "Hf_test = pd.DataFrame({\"formula\":[],\"target\":[]})\n",
        "for i in range(50):\n",
        "    Hf_test.loc[len(Hf_test)] = [(\"Hf\"+str(i*0.5+0.5)+\" Mo24 Nb1 Ti1 W1\"), 0]\n",
        "Hf_test_comp = composition.generate_features(Hf_test,elem_prop='f3_revised',drop_duplicates=False,extend_features=True)[0]\n",
        "Hf_test_scaled = scaler.fit_transform(Hf_test_comp)\n",
        "Hf_hard_pred = gbr_model1.predict(Hf_test_scaled)\n",
        "Hf_temperature_pred = gbr_model1a.predict(Hf_test_scaled)"
      ]
    },
    {
      "cell_type": "code",
      "execution_count": null,
      "metadata": {
        "id": "Zlh6kU616osD"
      },
      "outputs": [],
      "source": [
        "plt.figure(figsize=(10, 6))\n",
        "\n",
        "plt.scatter(x=range(1,51), y=Hf_hard_pred)\n",
        "plt.xlabel('Composition')\n",
        "plt.ylabel('Predicted Hardness')\n",
        "plt.title('Hardness vs. Composition Hafnium (Hf)')\n",
        "plt.grid(True)\n",
        "plt.show()"
      ]
    },
    {
      "cell_type": "code",
      "execution_count": null,
      "metadata": {
        "id": "NL9XvyqM6qqK"
      },
      "outputs": [],
      "source": [
        "plt.figure(figsize=(10, 6))\n",
        "\n",
        "plt.scatter(x=range(1,51), y=Hf_temperature_pred)\n",
        "plt.xlabel('Composition')\n",
        "plt.ylabel('Predicted Temperature')\n",
        "plt.title('Temperature vs. Composition Hafnium (Hf)')\n",
        "plt.grid(True)\n",
        "plt.show()"
      ]
    },
    {
      "cell_type": "markdown",
      "metadata": {
        "id": "kEtAJdHY7Za-"
      },
      "source": [
        "\n",
        "**Trend of graph when varying Niobium(Nb), keeping other compositions (Mo25 Hf4 Ti1 W1) constant**"
      ]
    },
    {
      "cell_type": "code",
      "execution_count": null,
      "metadata": {
        "id": "WcS-5g-_-9G3"
      },
      "outputs": [],
      "source": [
        "Nb_test = pd.DataFrame({\"formula\":[],\"target\":[]})\n",
        "for i in range(50):\n",
        "    Nb_test.loc[len(Nb_test)] = [(\"Nb\"+str(i*0.5)+\" Mo24 Hf0 Ti1 W1\"), 0]\n",
        "Nb_test_comp = composition.generate_features(Nb_test,elem_prop='f3_revised',drop_duplicates=False,extend_features=True)[0]\n",
        "Nb_test_scaled = scaler.fit_transform(Nb_test_comp)\n",
        "Nb_hard_pred = gbr_model1.predict(Nb_test_scaled)\n",
        "Nb_temperature_pred = gbr_model1a.predict(Nb_test_scaled)"
      ]
    },
    {
      "cell_type": "code",
      "execution_count": null,
      "metadata": {
        "id": "zO04f3ka7pTN"
      },
      "outputs": [],
      "source": [
        "plt.figure(figsize=(10, 6))\n",
        "\n",
        "plt.scatter(x=range(1,51), y=Nb_hard_pred)\n",
        "plt.xlabel('Composition')\n",
        "plt.ylabel('Predicted Hardness')\n",
        "plt.title('Hardness vs. Composition  Niobium(Nb)')\n",
        "plt.grid(True)\n",
        "plt.show()"
      ]
    },
    {
      "cell_type": "code",
      "execution_count": null,
      "metadata": {
        "id": "W4G5IzhiaguI"
      },
      "outputs": [],
      "source": [
        "plt.figure(figsize=(10, 6))\n",
        "\n",
        "plt.scatter(x=range(1,51), y=Nb_temperature_pred)\n",
        "plt.xlabel('Composition')\n",
        "plt.ylabel('Predicted Temperature')\n",
        "plt.title('Temperature vs. Composition  Niobium(Nb)')\n",
        "plt.grid(True)\n",
        "plt.show()"
      ]
    },
    {
      "cell_type": "markdown",
      "metadata": {
        "id": "G78abWVwbHrC"
      },
      "source": [
        "\n",
        "**Trend of graph when varying Tungsten(W), keeping other compositions (Mo11.5 Hf25 Ti1 Nb3) constant**"
      ]
    },
    {
      "cell_type": "code",
      "execution_count": null,
      "metadata": {
        "id": "cUCIaEDCbQCI"
      },
      "outputs": [],
      "source": [
        "W_test = pd.DataFrame({\"formula\":[],\"target\":[]})\n",
        "for i in range(50):\n",
        "    W_test.loc[len(W_test)] = [(\"W\"+str(i*0.5)+\" Mo24 Hf0 Ti1 Nb4\"), 0]\n",
        "W_test_comp = composition.generate_features(W_test,elem_prop='f3_revised',drop_duplicates=False,extend_features=True)[0]\n",
        "W_test_scaled = scaler.fit_transform(W_test_comp)\n",
        "W_hard_pred = gbr_model1.predict(W_test_scaled)\n",
        "W_temperature_pred = gbr_model1a.predict(W_test_scaled)"
      ]
    },
    {
      "cell_type": "code",
      "execution_count": null,
      "metadata": {
        "id": "s8QiMhd-bbKY"
      },
      "outputs": [],
      "source": [
        "plt.figure(figsize=(10, 6))\n",
        "\n",
        "plt.scatter(x=range(1,51), y=W_hard_pred)\n",
        "plt.xlabel('Composition')\n",
        "plt.ylabel('Predicted Hardness')\n",
        "plt.title('Hardness vs. Composition Tungsten(W)')\n",
        "plt.grid(True)\n",
        "plt.show()"
      ]
    },
    {
      "cell_type": "code",
      "execution_count": null,
      "metadata": {
        "id": "TGEJbNt1ben7"
      },
      "outputs": [],
      "source": [
        "plt.figure(figsize=(10, 6))\n",
        "\n",
        "plt.scatter(x=range(1,51), y=W_temperature_pred)\n",
        "plt.xlabel('Composition')\n",
        "plt.ylabel('Predicted Temperature')\n",
        "plt.title('Temperature vs. Composition Tungsten(W)')\n",
        "plt.grid(True)\n",
        "plt.show()"
      ]
    },
    {
      "cell_type": "code",
      "execution_count": null,
      "metadata": {
        "id": "5P3khU7972fX"
      },
      "outputs": [],
      "source": [
        "'''final_test = pd.DataFrame({\"formula\":[\"Mo11 Hf6 Ti1 Nb9.5 W15.5\"],\"target\":[0]})\n",
        "final_test_comp = composition.generate_features(final_test,elem_prop='f3_revised',drop_duplicates=False,extend_features=True)[0]\n",
        "final_test_scaled = scaler.fit_transform(final_test_comp)\n",
        "final_hard_pred = gbr_model1.predict(final_test_scaled)\n",
        "final_temperature_pred = gbr_model1a.predict(final_test_scaled)'''"
      ]
    },
    {
      "cell_type": "code",
      "execution_count": null,
      "metadata": {
        "collapsed": true,
        "id": "0g5Er0vnxPDl"
      },
      "outputs": [],
      "source": [
        "end_time = time.time()\n",
        "taken_time = end_time - start_time\n",
        "print(str(round(taken_time))+\"s\")"
      ]
    }
  ],
  "metadata": {
    "colab": {
      "provenance": []
    },
    "kernelspec": {
      "display_name": "Python 3",
      "name": "python3"
    },
    "language_info": {
      "name": "python"
    }
  },
  "nbformat": 4,
  "nbformat_minor": 0
}